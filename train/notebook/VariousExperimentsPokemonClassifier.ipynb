{
  "nbformat": 4,
  "nbformat_minor": 0,
  "metadata": {
    "colab": {
      "provenance": [],
      "collapsed_sections": []
    },
    "kernelspec": {
      "name": "python3",
      "display_name": "Python 3"
    },
    "language_info": {
      "name": "python"
    },
    "accelerator": "GPU"
  },
  "cells": [
    {
      "cell_type": "code",
      "source": [
        "from google.colab import drive\n",
        "drive.mount('/content/drive')"
      ],
      "metadata": {
        "id": "ETXeQJlZmhZS",
        "colab": {
          "base_uri": "https://localhost:8080/"
        },
        "outputId": "d2a9c51f-a91b-4cb5-9e35-5a3f140f4879"
      },
      "execution_count": 1,
      "outputs": [
        {
          "output_type": "stream",
          "name": "stdout",
          "text": [
            "Mounted at /content/drive\n"
          ]
        }
      ]
    },
    {
      "cell_type": "code",
      "source": [
        "# to process and visualize type data\n",
        "import numpy as np\n",
        "import pandas as pd\n",
        "import matplotlib.pyplot as plt\n",
        "import matplotlib.image as mpimg\n",
        "import seaborn as sns\n",
        "\n",
        "import os\n",
        "import shutil\n",
        "import random\n",
        "import cv2\n",
        "\n",
        "import string\n",
        "\n",
        "# fixed figure size\n",
        "plt.rcParams[\"figure.figsize\"] = (21, 12)\n",
        "\n",
        "# to open zip file\n",
        "from zipfile import ZipFile"
      ],
      "metadata": {
        "id": "EUGx_hEAnJyU"
      },
      "execution_count": 2,
      "outputs": []
    },
    {
      "cell_type": "code",
      "source": [
        "# image preprocessing\n",
        "from tensorflow.keras.preprocessing.image import img_to_array, ImageDataGenerator, load_img\n",
        "\n",
        "# multilabel preprocessing\n",
        "from sklearn.preprocessing import MultiLabelBinarizer\n",
        "\n",
        "# train-test data\n",
        "from sklearn.model_selection import train_test_split\n",
        "\n",
        "# to build model\n",
        "from tensorflow.keras.models import Sequential\n",
        "from tensorflow.keras.layers import Conv2D, Dense, MaxPooling2D, Dropout, Flatten, BatchNormalization\n",
        "from tensorflow.keras.activations import sigmoid, softmax\n",
        "\n",
        "# cost function / optimizer\n",
        "from tensorflow.keras.optimizers import Adam"
      ],
      "metadata": {
        "id": "quEDN0zmoIIY"
      },
      "execution_count": 3,
      "outputs": []
    },
    {
      "cell_type": "code",
      "source": [
        "# font configuration, because i am control freak\n",
        "SMALL_SIZE = 12\n",
        "MED_SIZE = 14\n",
        "BIGGER_SIZE = 16\n",
        "\n",
        "plt.rc(\"font\", size=SMALL_SIZE)\n",
        "plt.rc(\"axes\", titlesize=SMALL_SIZE)\n",
        "plt.rc(\"axes\", labelsize=MED_SIZE)\n",
        "plt.rc('xtick', labelsize=SMALL_SIZE)\n",
        "plt.rc('ytick', labelsize=SMALL_SIZE)\n",
        "plt.rc('legend', fontsize=SMALL_SIZE)\n",
        "plt.rc('figure', titlesize=BIGGER_SIZE)"
      ],
      "metadata": {
        "id": "hkWutQ9SoGMw"
      },
      "execution_count": 4,
      "outputs": []
    },
    {
      "cell_type": "markdown",
      "source": [
        "# Process and Prepare Data"
      ],
      "metadata": {
        "id": "A8bNEhNcXTZv"
      }
    },
    {
      "cell_type": "code",
      "source": [
        "ZIP_PATH = \"/content/drive/MyDrive/Datasets/poke.zip\"\n",
        "CSV_PATH = \"/content/Pokemon.csv\""
      ],
      "metadata": {
        "id": "lT-heKc6nV63"
      },
      "execution_count": 5,
      "outputs": []
    },
    {
      "cell_type": "code",
      "source": [
        "def OpenZip(path, destination=None):\n",
        "  with ZipFile(path, \"r\") as f:\n",
        "    print(\"Extracting files...\")\n",
        "    f.extractall(destination)\n",
        "    print(\"Done!\")"
      ],
      "metadata": {
        "id": "KapW7kkLoC5p"
      },
      "execution_count": 6,
      "outputs": []
    },
    {
      "cell_type": "code",
      "source": [
        "OpenZip(ZIP_PATH, destination=\"/content/\")"
      ],
      "metadata": {
        "colab": {
          "base_uri": "https://localhost:8080/"
        },
        "id": "ZXsN-EIspJEU",
        "outputId": "298f31d3-1bc9-4b25-e5a8-572daa60b1df"
      },
      "execution_count": 7,
      "outputs": [
        {
          "output_type": "stream",
          "name": "stdout",
          "text": [
            "Extracting files...\n",
            "Done!\n"
          ]
        }
      ]
    },
    {
      "cell_type": "code",
      "source": [
        "ROOT_PATH = \"/content/pokemon\""
      ],
      "metadata": {
        "id": "ijCs2MJepZUK"
      },
      "execution_count": 8,
      "outputs": []
    },
    {
      "cell_type": "code",
      "source": [
        "generations = os.listdir(ROOT_PATH)\n",
        "generations"
      ],
      "metadata": {
        "colab": {
          "base_uri": "https://localhost:8080/"
        },
        "id": "-ipGdpEpp5Rf",
        "outputId": "8c9062d7-3336-47b6-ccd7-7883c78be5ca"
      },
      "execution_count": 9,
      "outputs": [
        {
          "output_type": "execute_result",
          "data": {
            "text/plain": [
              "['icons', 'sugimori', 'overworld', 'conquest', 'main-sprites']"
            ]
          },
          "metadata": {},
          "execution_count": 9
        }
      ]
    },
    {
      "cell_type": "code",
      "source": [
        "BASE_DIR = \"/content/Pokemons\"\n",
        "TRAIN_DIR = os.path.join(BASE_DIR, \"training\")\n",
        "VAL_DIR = os.path.join(BASE_DIR, \"validation\")\n",
        "\n",
        "# if cell is run multiple times, rmpty it\n",
        "if os.path.exists(BASE_DIR):\n",
        "  shutil.rmtree(BASE_DIR)\n",
        "\n",
        "os.makedirs(BASE_DIR)\n",
        "os.makedirs(TRAIN_DIR)\n",
        "os.makedirs(VAL_DIR)"
      ],
      "metadata": {
        "id": "fMKKqDF3rezH"
      },
      "execution_count": 10,
      "outputs": []
    },
    {
      "cell_type": "code",
      "source": [
        "df = pd.read_csv(CSV_PATH)\n",
        "df.head()"
      ],
      "metadata": {
        "colab": {
          "base_uri": "https://localhost:8080/",
          "height": 250
        },
        "id": "xNSrl7VLswdS",
        "outputId": "0c647743-855b-43f6-914d-ed8dae38e3b4"
      },
      "execution_count": 11,
      "outputs": [
        {
          "output_type": "execute_result",
          "data": {
            "text/plain": [
              "   #                   Name Type 1  Type 2  Total  HP  Attack  Defense  \\\n",
              "0  1              Bulbasaur  Grass  Poison    318  45      49       49   \n",
              "1  2                Ivysaur  Grass  Poison    405  60      62       63   \n",
              "2  3               Venusaur  Grass  Poison    525  80      82       83   \n",
              "3  3  VenusaurMega Venusaur  Grass  Poison    625  80     100      123   \n",
              "4  4             Charmander   Fire     NaN    309  39      52       43   \n",
              "\n",
              "   Sp. Atk  Sp. Def  Speed  Generation  Legendary  \n",
              "0       65       65     45           1      False  \n",
              "1       80       80     60           1      False  \n",
              "2      100      100     80           1      False  \n",
              "3      122      120     80           1      False  \n",
              "4       60       50     65           1      False  "
            ],
            "text/html": [
              "\n",
              "  <div id=\"df-bc89fdf0-e031-4293-99e9-1807599af576\">\n",
              "    <div class=\"colab-df-container\">\n",
              "      <div>\n",
              "<style scoped>\n",
              "    .dataframe tbody tr th:only-of-type {\n",
              "        vertical-align: middle;\n",
              "    }\n",
              "\n",
              "    .dataframe tbody tr th {\n",
              "        vertical-align: top;\n",
              "    }\n",
              "\n",
              "    .dataframe thead th {\n",
              "        text-align: right;\n",
              "    }\n",
              "</style>\n",
              "<table border=\"1\" class=\"dataframe\">\n",
              "  <thead>\n",
              "    <tr style=\"text-align: right;\">\n",
              "      <th></th>\n",
              "      <th>#</th>\n",
              "      <th>Name</th>\n",
              "      <th>Type 1</th>\n",
              "      <th>Type 2</th>\n",
              "      <th>Total</th>\n",
              "      <th>HP</th>\n",
              "      <th>Attack</th>\n",
              "      <th>Defense</th>\n",
              "      <th>Sp. Atk</th>\n",
              "      <th>Sp. Def</th>\n",
              "      <th>Speed</th>\n",
              "      <th>Generation</th>\n",
              "      <th>Legendary</th>\n",
              "    </tr>\n",
              "  </thead>\n",
              "  <tbody>\n",
              "    <tr>\n",
              "      <th>0</th>\n",
              "      <td>1</td>\n",
              "      <td>Bulbasaur</td>\n",
              "      <td>Grass</td>\n",
              "      <td>Poison</td>\n",
              "      <td>318</td>\n",
              "      <td>45</td>\n",
              "      <td>49</td>\n",
              "      <td>49</td>\n",
              "      <td>65</td>\n",
              "      <td>65</td>\n",
              "      <td>45</td>\n",
              "      <td>1</td>\n",
              "      <td>False</td>\n",
              "    </tr>\n",
              "    <tr>\n",
              "      <th>1</th>\n",
              "      <td>2</td>\n",
              "      <td>Ivysaur</td>\n",
              "      <td>Grass</td>\n",
              "      <td>Poison</td>\n",
              "      <td>405</td>\n",
              "      <td>60</td>\n",
              "      <td>62</td>\n",
              "      <td>63</td>\n",
              "      <td>80</td>\n",
              "      <td>80</td>\n",
              "      <td>60</td>\n",
              "      <td>1</td>\n",
              "      <td>False</td>\n",
              "    </tr>\n",
              "    <tr>\n",
              "      <th>2</th>\n",
              "      <td>3</td>\n",
              "      <td>Venusaur</td>\n",
              "      <td>Grass</td>\n",
              "      <td>Poison</td>\n",
              "      <td>525</td>\n",
              "      <td>80</td>\n",
              "      <td>82</td>\n",
              "      <td>83</td>\n",
              "      <td>100</td>\n",
              "      <td>100</td>\n",
              "      <td>80</td>\n",
              "      <td>1</td>\n",
              "      <td>False</td>\n",
              "    </tr>\n",
              "    <tr>\n",
              "      <th>3</th>\n",
              "      <td>3</td>\n",
              "      <td>VenusaurMega Venusaur</td>\n",
              "      <td>Grass</td>\n",
              "      <td>Poison</td>\n",
              "      <td>625</td>\n",
              "      <td>80</td>\n",
              "      <td>100</td>\n",
              "      <td>123</td>\n",
              "      <td>122</td>\n",
              "      <td>120</td>\n",
              "      <td>80</td>\n",
              "      <td>1</td>\n",
              "      <td>False</td>\n",
              "    </tr>\n",
              "    <tr>\n",
              "      <th>4</th>\n",
              "      <td>4</td>\n",
              "      <td>Charmander</td>\n",
              "      <td>Fire</td>\n",
              "      <td>NaN</td>\n",
              "      <td>309</td>\n",
              "      <td>39</td>\n",
              "      <td>52</td>\n",
              "      <td>43</td>\n",
              "      <td>60</td>\n",
              "      <td>50</td>\n",
              "      <td>65</td>\n",
              "      <td>1</td>\n",
              "      <td>False</td>\n",
              "    </tr>\n",
              "  </tbody>\n",
              "</table>\n",
              "</div>\n",
              "      <button class=\"colab-df-convert\" onclick=\"convertToInteractive('df-bc89fdf0-e031-4293-99e9-1807599af576')\"\n",
              "              title=\"Convert this dataframe to an interactive table.\"\n",
              "              style=\"display:none;\">\n",
              "        \n",
              "  <svg xmlns=\"http://www.w3.org/2000/svg\" height=\"24px\"viewBox=\"0 0 24 24\"\n",
              "       width=\"24px\">\n",
              "    <path d=\"M0 0h24v24H0V0z\" fill=\"none\"/>\n",
              "    <path d=\"M18.56 5.44l.94 2.06.94-2.06 2.06-.94-2.06-.94-.94-2.06-.94 2.06-2.06.94zm-11 1L8.5 8.5l.94-2.06 2.06-.94-2.06-.94L8.5 2.5l-.94 2.06-2.06.94zm10 10l.94 2.06.94-2.06 2.06-.94-2.06-.94-.94-2.06-.94 2.06-2.06.94z\"/><path d=\"M17.41 7.96l-1.37-1.37c-.4-.4-.92-.59-1.43-.59-.52 0-1.04.2-1.43.59L10.3 9.45l-7.72 7.72c-.78.78-.78 2.05 0 2.83L4 21.41c.39.39.9.59 1.41.59.51 0 1.02-.2 1.41-.59l7.78-7.78 2.81-2.81c.8-.78.8-2.07 0-2.86zM5.41 20L4 18.59l7.72-7.72 1.47 1.35L5.41 20z\"/>\n",
              "  </svg>\n",
              "      </button>\n",
              "      \n",
              "  <style>\n",
              "    .colab-df-container {\n",
              "      display:flex;\n",
              "      flex-wrap:wrap;\n",
              "      gap: 12px;\n",
              "    }\n",
              "\n",
              "    .colab-df-convert {\n",
              "      background-color: #E8F0FE;\n",
              "      border: none;\n",
              "      border-radius: 50%;\n",
              "      cursor: pointer;\n",
              "      display: none;\n",
              "      fill: #1967D2;\n",
              "      height: 32px;\n",
              "      padding: 0 0 0 0;\n",
              "      width: 32px;\n",
              "    }\n",
              "\n",
              "    .colab-df-convert:hover {\n",
              "      background-color: #E2EBFA;\n",
              "      box-shadow: 0px 1px 2px rgba(60, 64, 67, 0.3), 0px 1px 3px 1px rgba(60, 64, 67, 0.15);\n",
              "      fill: #174EA6;\n",
              "    }\n",
              "\n",
              "    [theme=dark] .colab-df-convert {\n",
              "      background-color: #3B4455;\n",
              "      fill: #D2E3FC;\n",
              "    }\n",
              "\n",
              "    [theme=dark] .colab-df-convert:hover {\n",
              "      background-color: #434B5C;\n",
              "      box-shadow: 0px 1px 3px 1px rgba(0, 0, 0, 0.15);\n",
              "      filter: drop-shadow(0px 1px 2px rgba(0, 0, 0, 0.3));\n",
              "      fill: #FFFFFF;\n",
              "    }\n",
              "  </style>\n",
              "\n",
              "      <script>\n",
              "        const buttonEl =\n",
              "          document.querySelector('#df-bc89fdf0-e031-4293-99e9-1807599af576 button.colab-df-convert');\n",
              "        buttonEl.style.display =\n",
              "          google.colab.kernel.accessAllowed ? 'block' : 'none';\n",
              "\n",
              "        async function convertToInteractive(key) {\n",
              "          const element = document.querySelector('#df-bc89fdf0-e031-4293-99e9-1807599af576');\n",
              "          const dataTable =\n",
              "            await google.colab.kernel.invokeFunction('convertToInteractive',\n",
              "                                                     [key], {});\n",
              "          if (!dataTable) return;\n",
              "\n",
              "          const docLinkHtml = 'Like what you see? Visit the ' +\n",
              "            '<a target=\"_blank\" href=https://colab.research.google.com/notebooks/data_table.ipynb>data table notebook</a>'\n",
              "            + ' to learn more about interactive tables.';\n",
              "          element.innerHTML = '';\n",
              "          dataTable['output_type'] = 'display_data';\n",
              "          await google.colab.output.renderOutput(dataTable, element);\n",
              "          const docLink = document.createElement('div');\n",
              "          docLink.innerHTML = docLinkHtml;\n",
              "          element.appendChild(docLink);\n",
              "        }\n",
              "      </script>\n",
              "    </div>\n",
              "  </div>\n",
              "  "
            ]
          },
          "metadata": {},
          "execution_count": 11
        }
      ]
    },
    {
      "cell_type": "code",
      "source": [
        "df.shape"
      ],
      "metadata": {
        "colab": {
          "base_uri": "https://localhost:8080/"
        },
        "id": "3ZaSFMcZtC6Y",
        "outputId": "25603810-34bc-412d-9948-088778b496b9"
      },
      "execution_count": null,
      "outputs": [
        {
          "output_type": "execute_result",
          "data": {
            "text/plain": [
              "(800, 13)"
            ]
          },
          "metadata": {},
          "execution_count": 24
        }
      ]
    },
    {
      "cell_type": "code",
      "source": [
        "pokemon_types = df[\"Type 1\"].unique()\n",
        "pokemon_types"
      ],
      "metadata": {
        "colab": {
          "base_uri": "https://localhost:8080/"
        },
        "id": "qi53-TjDs1zn",
        "outputId": "f25a8098-5397-43ec-9e3e-c53aca09a5e1"
      },
      "execution_count": 12,
      "outputs": [
        {
          "output_type": "execute_result",
          "data": {
            "text/plain": [
              "array(['Grass', 'Fire', 'Water', 'Bug', 'Normal', 'Poison', 'Electric',\n",
              "       'Ground', 'Fairy', 'Fighting', 'Psychic', 'Rock', 'Ghost', 'Ice',\n",
              "       'Dragon', 'Dark', 'Steel', 'Flying'], dtype=object)"
            ]
          },
          "metadata": {},
          "execution_count": 12
        }
      ]
    },
    {
      "cell_type": "code",
      "source": [
        "for t in pokemon_types:\n",
        "  os.makedirs(os.path.join(TRAIN_DIR, t))\n",
        "  os.makedirs(os.path.join(VAL_DIR, t))\n",
        "print(\"Type directories are created!\")"
      ],
      "metadata": {
        "colab": {
          "base_uri": "https://localhost:8080/"
        },
        "id": "iLR0UH_Ns12X",
        "outputId": "25309f9e-b4e0-4aba-c653-76422ba22ab1"
      },
      "execution_count": 13,
      "outputs": [
        {
          "output_type": "stream",
          "name": "stdout",
          "text": [
            "Type directories are created!\n"
          ]
        }
      ]
    },
    {
      "cell_type": "code",
      "source": [
        "count_pokemons = {\"conquest\": 0,\n",
        "                  \"icons\": 0,\n",
        "                  \"main-sprites\": 0,\n",
        "                  \"overworld\": 0,\n",
        "                  \"sugimori\": 0}\n",
        "\n",
        "for subfolder in os.listdir(ROOT_PATH):\n",
        "  sub = os.path.join(ROOT_PATH, subfolder)\n",
        "  for im in os.listdir(sub):\n",
        "    count_pokemons[subfolder] += 1\n",
        "    #print(im)\n",
        "\n",
        "count_pokemons\n",
        "# main-sprites and overworld folder has subdirectories.\n",
        "# handle them separately"
      ],
      "metadata": {
        "colab": {
          "base_uri": "https://localhost:8080/"
        },
        "id": "4VyUOG4_yWli",
        "outputId": "0daf4099-8e82-4f36-9a26-677828d0a37a"
      },
      "execution_count": 14,
      "outputs": [
        {
          "output_type": "execute_result",
          "data": {
            "text/plain": [
              "{'conquest': 202,\n",
              " 'icons': 945,\n",
              " 'main-sprites': 13,\n",
              " 'overworld': 6,\n",
              " 'sugimori': 852}"
            ]
          },
          "metadata": {},
          "execution_count": 14
        }
      ]
    },
    {
      "cell_type": "code",
      "source": [
        "type_lists = {}\n",
        "for t in pokemon_types:\n",
        "  type_lists[t] = []\n",
        "\n",
        "type_lists"
      ],
      "metadata": {
        "colab": {
          "base_uri": "https://localhost:8080/"
        },
        "id": "cPQSVKmJ3r1N",
        "outputId": "85134cea-22f4-47ab-d60b-55cb1bd98f6f"
      },
      "execution_count": 15,
      "outputs": [
        {
          "output_type": "execute_result",
          "data": {
            "text/plain": [
              "{'Grass': [],\n",
              " 'Fire': [],\n",
              " 'Water': [],\n",
              " 'Bug': [],\n",
              " 'Normal': [],\n",
              " 'Poison': [],\n",
              " 'Electric': [],\n",
              " 'Ground': [],\n",
              " 'Fairy': [],\n",
              " 'Fighting': [],\n",
              " 'Psychic': [],\n",
              " 'Rock': [],\n",
              " 'Ghost': [],\n",
              " 'Ice': [],\n",
              " 'Dragon': [],\n",
              " 'Dark': [],\n",
              " 'Steel': [],\n",
              " 'Flying': []}"
            ]
          },
          "metadata": {},
          "execution_count": 15
        }
      ]
    },
    {
      "cell_type": "code",
      "source": [
        "for subfolder in os.listdir(\"/content/pokemon/main-sprites\"):\n",
        "      foldername = os.path.join(\"/content/pokemon/main-sprites\", subfolder)\n",
        "      print(foldername)"
      ],
      "metadata": {
        "colab": {
          "base_uri": "https://localhost:8080/"
        },
        "id": "B99P1uXK7DrB",
        "outputId": "c7fd2019-6487-4586-b936-b6c9ed41bc8a"
      },
      "execution_count": 16,
      "outputs": [
        {
          "output_type": "stream",
          "name": "stdout",
          "text": [
            "/content/pokemon/main-sprites/red-green\n",
            "/content/pokemon/main-sprites/gold\n",
            "/content/pokemon/main-sprites/crystal\n",
            "/content/pokemon/main-sprites/red-blue\n",
            "/content/pokemon/main-sprites/silver\n",
            "/content/pokemon/main-sprites/yellow\n",
            "/content/pokemon/main-sprites/emerald\n",
            "/content/pokemon/main-sprites/black-white\n",
            "/content/pokemon/main-sprites/firered-leafgreen\n",
            "/content/pokemon/main-sprites/ruby-sapphire\n",
            "/content/pokemon/main-sprites/heartgold-soulsilver\n",
            "/content/pokemon/main-sprites/platinum\n",
            "/content/pokemon/main-sprites/diamond-pearl\n"
          ]
        }
      ]
    },
    {
      "cell_type": "code",
      "source": [
        "# DO NOT RUN\n",
        "# second dataset\n",
        "\n",
        "BASE_DIR = \"/content/Pokemons2\"\n",
        "TRAIN_DIR = os.path.join(BASE_DIR, \"training\")\n",
        "VAL_DIR = os.path.join(BASE_DIR, \"validation\")\n",
        "\n",
        "# if cell is run multiple times, rmpty it\n",
        "if os.path.exists(BASE_DIR):\n",
        "  shutil.rmtree(BASE_DIR)\n",
        "\n",
        "os.makedirs(BASE_DIR)\n",
        "os.makedirs(TRAIN_DIR)\n",
        "os.makedirs(VAL_DIR)\n",
        "\n",
        "for t in pokemon_types:\n",
        "  os.makedirs(os.path.join(TRAIN_DIR, t))\n",
        "  os.makedirs(os.path.join(VAL_DIR, t))\n",
        "print(\"Type directories are created!\")"
      ],
      "metadata": {
        "colab": {
          "base_uri": "https://localhost:8080/"
        },
        "id": "NPXbtxrLsJ-P",
        "outputId": "992f50e0-df36-43ce-fcd3-4c9e22721144"
      },
      "execution_count": null,
      "outputs": [
        {
          "output_type": "stream",
          "name": "stdout",
          "text": [
            "Type directories are created!\n"
          ]
        }
      ]
    },
    {
      "cell_type": "code",
      "source": [
        "def create_type_path_lists(base_dir):\n",
        "  \"\"\" creates lists for each pokemon type that contains corresponding type of pokemon path\"\"\"\n",
        "  \n",
        "  alphabet = list(string.ascii_lowercase)\n",
        "\n",
        "  type_lists_dict = {}\n",
        "  for t in pokemon_types:\n",
        "    type_lists_dict[t] = []\n",
        "\n",
        "  if base_dir.split(\"/\")[-1] in [\"main-sprites\", \"overworld\"]:\n",
        "    for subfolder in os.listdir(base_dir):\n",
        "      foldername = os.path.join(base_dir, subfolder)\n",
        "      for filename in os.listdir(foldername):\n",
        "        # eliminate pokemons that contains hyphen names like: 423-west.png\n",
        "        if filename.split(\".\")[0].endswith(tuple(alphabet)):     \n",
        "          #print(\"Excluded: \", im)\n",
        "          continue\n",
        "        if not os.path.isdir(os.path.join(foldername, filename)):\n",
        "          # check if it is a folder or not\n",
        "          poke_id = int(filename.split(\".\")[0])\n",
        "          type1 = df.iloc[poke_id-1][\"Type 1\"]\n",
        "          type_lists_dict[type1].append(os.path.join(foldername, filename))\n",
        "    return type_lists_dict\n",
        "\n",
        "  for fname in os.listdir(base_dir):\n",
        "    filename = os.path.join(base_dir, fname)\n",
        "    # eliminate pokemons that contains hyphen names like: 423-west.png\n",
        "    if filename.split(\".\")[0].endswith(tuple(alphabet)):     \n",
        "      #print(\"Excluded: \", im)\n",
        "      continue\n",
        "    if not os.path.isdir(filename):\n",
        "      # check if it is a folder or not\n",
        "      poke_id = int(fname.split(\".\")[0])\n",
        "      type1 = list(df[df[\"#\"] == poke_id][\"Type 1\"])[0]\n",
        "      type_lists_dict[type1].append(filename)\n",
        "  return type_lists_dict\n",
        "\n",
        "#conquest_type_path_dict = create_type_path_lists(\"/content/pokemon/conquest\")\n",
        "#sugimori_type_path_dict = create_type_path_lists(\"/content/pokemon/sugimori\")\n",
        "#icons_type_path_dict = create_type_path_lists(\"/content/pokemon/icons\")\n",
        "#main_sprites_type_path_dict = create_type_path_lists(\"/content/pokemon/main-sprites\")\n",
        "#overworld_type_path_dict = create_type_path_lists(\"/content/pokemon/overworld\")\n",
        "\n",
        "# works very well <3"
      ],
      "metadata": {
        "id": "1NA6eAZY21o5"
      },
      "execution_count": 17,
      "outputs": []
    },
    {
      "cell_type": "code",
      "source": [
        "conquest_type_path_dict = create_type_path_lists(\"/content/pokemon/conquest\")\n",
        "sugimori_type_path_dict = create_type_path_lists(\"/content/pokemon/sugimori\")\n",
        "icons_type_path_dict = create_type_path_lists(\"/content/pokemon/icons\")\n",
        "main_sprites_type_path_dict = create_type_path_lists(\"/content/pokemon/main-sprites\")\n",
        "overworld_type_path_dict = create_type_path_lists(\"/content/pokemon/overworld\")\n",
        "\n",
        "for k in conquest_type_path_dict.keys():\n",
        "  print(f\"{k} has {len(conquest_type_path_dict[k])} paths.\")\n",
        "\n",
        "print(\"\\n-----------------------------------\\n\")\n",
        "\n",
        "for k in sugimori_type_path_dict.keys():\n",
        "  print(f\"{k} has {len(sugimori_type_path_dict[k])} paths.\")\n",
        "\n",
        "print(\"\\n-----------------------------------\\n\")\n",
        "\n",
        "for k in icons_type_path_dict.keys():\n",
        "  print(f\"{k} has {len(icons_type_path_dict[k])} paths.\")\n",
        "\n",
        "print(\"\\n-----------------------------------\\n\")\n",
        "\n",
        "for k in main_sprites_type_path_dict.keys():\n",
        "  print(f\"{k} has {len(main_sprites_type_path_dict[k])} paths.\")\n",
        "\n",
        "print(\"\\n-----------------------------------\\n\")\n",
        "\n",
        "for k in overworld_type_path_dict.keys():\n",
        "  print(f\"{k} has {len(overworld_type_path_dict[k])} paths.\")"
      ],
      "metadata": {
        "colab": {
          "base_uri": "https://localhost:8080/"
        },
        "id": "r2gfufVkDLHf",
        "outputId": "4c58f298-5d45-43ff-c412-96a23ae5de36"
      },
      "execution_count": 18,
      "outputs": [
        {
          "output_type": "stream",
          "name": "stdout",
          "text": [
            "Grass has 14 paths.\n",
            "Fire has 14 paths.\n",
            "Water has 14 paths.\n",
            "Bug has 15 paths.\n",
            "Normal has 19 paths.\n",
            "Poison has 9 paths.\n",
            "Electric has 13 paths.\n",
            "Ground has 9 paths.\n",
            "Fairy has 0 paths.\n",
            "Fighting has 8 paths.\n",
            "Psychic has 16 paths.\n",
            "Rock has 12 paths.\n",
            "Ghost has 14 paths.\n",
            "Ice has 10 paths.\n",
            "Dragon has 12 paths.\n",
            "Dark has 12 paths.\n",
            "Steel has 9 paths.\n",
            "Flying has 0 paths.\n",
            "\n",
            "-----------------------------------\n",
            "\n",
            "Grass has 66 paths.\n",
            "Fire has 47 paths.\n",
            "Water has 105 paths.\n",
            "Bug has 63 paths.\n",
            "Normal has 93 paths.\n",
            "Poison has 28 paths.\n",
            "Electric has 36 paths.\n",
            "Ground has 30 paths.\n",
            "Fairy has 17 paths.\n",
            "Fighting has 25 paths.\n",
            "Psychic has 47 paths.\n",
            "Rock has 41 paths.\n",
            "Ghost has 23 paths.\n",
            "Ice has 23 paths.\n",
            "Dragon has 24 paths.\n",
            "Dark has 28 paths.\n",
            "Steel has 22 paths.\n",
            "Flying has 3 paths.\n",
            "\n",
            "-----------------------------------\n",
            "\n",
            "Grass has 66 paths.\n",
            "Fire has 47 paths.\n",
            "Water has 105 paths.\n",
            "Bug has 63 paths.\n",
            "Normal has 93 paths.\n",
            "Poison has 28 paths.\n",
            "Electric has 36 paths.\n",
            "Ground has 30 paths.\n",
            "Fairy has 17 paths.\n",
            "Fighting has 25 paths.\n",
            "Psychic has 47 paths.\n",
            "Rock has 41 paths.\n",
            "Ghost has 23 paths.\n",
            "Ice has 23 paths.\n",
            "Dragon has 24 paths.\n",
            "Dark has 28 paths.\n",
            "Steel has 22 paths.\n",
            "Flying has 3 paths.\n",
            "\n",
            "-----------------------------------\n",
            "\n",
            "Grass has 372 paths.\n",
            "Fire has 312 paths.\n",
            "Water has 757 paths.\n",
            "Bug has 407 paths.\n",
            "Normal has 607 paths.\n",
            "Poison has 223 paths.\n",
            "Electric has 227 paths.\n",
            "Ground has 175 paths.\n",
            "Fairy has 72 paths.\n",
            "Fighting has 141 paths.\n",
            "Psychic has 270 paths.\n",
            "Rock has 219 paths.\n",
            "Ghost has 106 paths.\n",
            "Ice has 89 paths.\n",
            "Dragon has 89 paths.\n",
            "Dark has 98 paths.\n",
            "Steel has 96 paths.\n",
            "Flying has 0 paths.\n",
            "\n",
            "-----------------------------------\n",
            "\n",
            "Grass has 168 paths.\n",
            "Fire has 132 paths.\n",
            "Water has 332 paths.\n",
            "Bug has 188 paths.\n",
            "Normal has 280 paths.\n",
            "Poison has 80 paths.\n",
            "Electric has 100 paths.\n",
            "Ground has 72 paths.\n",
            "Fairy has 28 paths.\n",
            "Fighting has 56 paths.\n",
            "Psychic has 128 paths.\n",
            "Rock has 112 paths.\n",
            "Ghost has 56 paths.\n",
            "Ice has 52 paths.\n",
            "Dragon has 68 paths.\n",
            "Dark has 52 paths.\n",
            "Steel has 68 paths.\n",
            "Flying has 0 paths.\n"
          ]
        }
      ]
    },
    {
      "cell_type": "code",
      "source": [
        "# empty directories if you run multiple times\n",
        "\n",
        "#training paths\n",
        "TR_PATHS = [\"/content/Pokemons/training/Bug\",\n",
        "            \"/content/Pokemons/training/Dark\",\n",
        "            \"/content/Pokemons/training/Dragon\",\n",
        "            \"/content/Pokemons/training/Electric\",\n",
        "            \"/content/Pokemons/training/Fairy\",\n",
        "            \"/content/Pokemons/training/Fighting\",\n",
        "            \"/content/Pokemons/training/Fire\",\n",
        "            \"/content/Pokemons/training/Flying\",\n",
        "            \"/content/Pokemons/training/Ghost\",\n",
        "            \"/content/Pokemons/training/Grass\",\n",
        "            \"/content/Pokemons/training/Ice\",\n",
        "            \"/content/Pokemons/training/Normal\",\n",
        "            \"/content/Pokemons/training/Poison\",\n",
        "            \"/content/Pokemons/training/Psychic\",\n",
        "            \"/content/Pokemons/training/Rock\",\n",
        "            \"/content/Pokemons/training/Steel\",\n",
        "            \"/content/Pokemons/training/Water\",\n",
        "            ]\n",
        "\n",
        "# val paths\n",
        "VL_PATHS = [\"/content/Pokemons/validation/Bug\",\n",
        "            \"/content/Pokemons/validation/Dark\",\n",
        "            \"/content/Pokemons/validation/Dragon\",\n",
        "            \"/content/Pokemons/validation/Electric\",\n",
        "            \"/content/Pokemons/validation/Fairy\",\n",
        "            \"/content/Pokemons/validation/Fighting\",\n",
        "            \"/content/Pokemons/validation/Fire\",\n",
        "            \"/content/Pokemons/validation/Flying\",\n",
        "            \"/content/Pokemons/validation/Ghost\",\n",
        "            \"/content/Pokemons/validation/Grass\",\n",
        "            \"/content/Pokemons/validation/Ice\",\n",
        "            \"/content/Pokemons/validation/Normal\",\n",
        "            \"/content/Pokemons/validation/Poison\",\n",
        "            \"/content/Pokemons/validation/Psychic\",\n",
        "            \"/content/Pokemons/validation/Rock\",\n",
        "            \"/content/Pokemons/validation/Steel\",\n",
        "            \"/content/Pokemons/validation/Water\",\n",
        "            ]\n",
        "\n",
        "for i in range(17):\n",
        "  if len(os.listdir(TR_PATHS[i])) > 0:\n",
        "    for file in os.scandir(TR_PATHS[i]):\n",
        "      if file.path.split(\"/\")[-1] != '.ipynb_checkpoints':\n",
        "        os.remove(file.path)\n",
        "\n",
        "  if len(os.listdir(VL_PATHS[i])) > 0:\n",
        "    for file in os.scandir(VL_PATHS[i]):\n",
        "      if file.path.split(\"/\")[-1] != '.ipynb_checkpoints':\n",
        "        os.remove(file.path)"
      ],
      "metadata": {
        "id": "4qqrnELWKJDE"
      },
      "execution_count": 19,
      "outputs": []
    },
    {
      "cell_type": "code",
      "source": [
        "def split_data(base_dir, type_path_dict, split_size):\n",
        "  \"\"\"\n",
        "  Gets type_path_dict, if image len is not zero, appends it to training or validation folders by shuffling types\n",
        "  \"\"\"\n",
        "\n",
        "  to_train_dir = os.path.join(base_dir, \"training\")\n",
        "  to_val_dir = os.path.join(base_dir, \"validation\")\n",
        "  \n",
        "  for type_key in type_path_dict.keys():\n",
        "    tmp_type_files = []\n",
        "    type_files = type_path_dict[type_key]\n",
        "\n",
        "    for f in type_files:\n",
        "      if os.path.getsize(f):\n",
        "        tmp_type_files.append(f)\n",
        "      elif f == \"/content/pokemon/main-sprites/black-white/0.png\":\n",
        "        print(\"Fucking egg found! : \", f)\n",
        "        continue\n",
        "      else:\n",
        "        print(\"{} is zero length, so ignoring.\".format(f))\n",
        "    n_type = len(tmp_type_files)\n",
        "    split_point = int(split_size * n_type)\n",
        "    shuffled = random.sample(tmp_type_files, n_type)\n",
        "\n",
        "    train_type = shuffled[:split_point]\n",
        "    test_type = shuffled[split_point:]\n",
        "    \n",
        "    for type_path in train_type:\n",
        "      to_copy = os.path.join(to_train_dir, type_key)\n",
        "      copy_name = \"\".join(type_path.split(\"/\")[3:])\n",
        "      shutil.copyfile(type_path, os.path.join(to_copy, copy_name))\n",
        "    \n",
        "    for type_path in test_type:\n",
        "      to_copy = os.path.join(to_val_dir, type_key)\n",
        "      copy_name = \"\".join(type_path.split(\"/\")[3:])\n",
        "      shutil.copyfile(type_path, os.path.join(to_copy, copy_name))"
      ],
      "metadata": {
        "id": "OOWUWWdDs15X"
      },
      "execution_count": 20,
      "outputs": []
    },
    {
      "cell_type": "code",
      "source": [
        "split_size = 0.7"
      ],
      "metadata": {
        "id": "Yl6hp6tMq4Fl"
      },
      "execution_count": 22,
      "outputs": []
    },
    {
      "cell_type": "code",
      "source": [
        "# split_size = 0.9\n",
        "\n",
        "split_data(BASE_DIR, conquest_type_path_dict, split_size)\n",
        "split_data(BASE_DIR, sugimori_type_path_dict, split_size)\n",
        "split_data(BASE_DIR, icons_type_path_dict, split_size)\n",
        "split_data(BASE_DIR, main_sprites_type_path_dict, split_size)\n",
        "split_data(BASE_DIR, overworld_type_path_dict, split_size)"
      ],
      "metadata": {
        "id": "B16ClVi8s19x"
      },
      "execution_count": 27,
      "outputs": []
    },
    {
      "cell_type": "code",
      "source": [
        "# save my preciousss\n",
        "shutil.make_archive(\"ProcessedPokemonData\" + str(split_size)[2:], 'zip', \"/content/Pokemons\")"
      ],
      "metadata": {
        "colab": {
          "base_uri": "https://localhost:8080/",
          "height": 35
        },
        "id": "-XX9rtxdp8HI",
        "outputId": "bc872784-5604-4714-aa8b-5ff15069e590"
      },
      "execution_count": 28,
      "outputs": [
        {
          "output_type": "execute_result",
          "data": {
            "text/plain": [
              "'/content/ProcessedPokemonData7.zip'"
            ],
            "application/vnd.google.colaboratory.intrinsic+json": {
              "type": "string"
            }
          },
          "metadata": {},
          "execution_count": 28
        }
      ]
    },
    {
      "cell_type": "code",
      "source": [
        "# Training and validation splits\n",
        "for i in range(17):\n",
        "  print(f\"There are {len(os.listdir(TR_PATHS[i]))} images of {(TR_PATHS[i].split('/')[-1].lower())}'s for training\")\n",
        "  print(f\"There are {len(os.listdir(VL_PATHS[i]))} images of {(VL_PATHS[i].split('/')[-1].lower())}'s for validation.\")\n",
        "  print()"
      ],
      "metadata": {
        "colab": {
          "base_uri": "https://localhost:8080/"
        },
        "id": "qNxj1vloW0c_",
        "outputId": "0b94d438-d3f6-41fd-86bc-c8d2beb0f846"
      },
      "execution_count": 29,
      "outputs": [
        {
          "output_type": "stream",
          "name": "stdout",
          "text": [
            "There are 666 images of bug's for training\n",
            "There are 376 images of bug's for validation.\n",
            "\n",
            "There are 193 images of dark's for training\n",
            "There are 111 images of dark's for validation.\n",
            "\n",
            "There are 194 images of dragon's for training\n",
            "There are 113 images of dragon's for validation.\n",
            "\n",
            "There are 375 images of electric's for training\n",
            "There are 213 images of electric's for validation.\n",
            "\n",
            "There are 120 images of fairy's for training\n",
            "There are 72 images of fairy's for validation.\n",
            "\n",
            "There are 230 images of fighting's for training\n",
            "There are 133 images of fighting's for validation.\n",
            "\n",
            "There are 500 images of fire's for training\n",
            "There are 286 images of fire's for validation.\n",
            "\n",
            "There are 6 images of flying's for training\n",
            "There are 4 images of flying's for validation.\n",
            "\n",
            "There are 199 images of ghost's for training\n",
            "There are 113 images of ghost's for validation.\n",
            "\n",
            "There are 628 images of grass's for training\n",
            "There are 358 images of grass's for validation.\n",
            "\n",
            "There are 175 images of ice's for training\n",
            "There are 98 images of ice's for validation.\n",
            "\n",
            "There are 1007 images of normal's for training\n",
            "There are 573 images of normal's for validation.\n",
            "\n",
            "There are 337 images of poison's for training\n",
            "There are 193 images of poison's for validation.\n",
            "\n",
            "There are 464 images of psychic's for training\n",
            "There are 266 images of psychic's for validation.\n",
            "\n",
            "There are 386 images of rock's for training\n",
            "There are 221 images of rock's for validation.\n",
            "\n",
            "There are 192 images of steel's for training\n",
            "There are 109 images of steel's for validation.\n",
            "\n",
            "There are 1186 images of water's for training\n",
            "There are 667 images of water's for validation.\n",
            "\n"
          ]
        }
      ]
    },
    {
      "cell_type": "code",
      "source": [
        "# DO NOT RUN\n",
        "\n",
        "def split_data2(base_dir, type_path_dict, to_training=True):\n",
        "  \"\"\"\n",
        "  Gets type_path_dict, if image len is not zero, appends it to training or validation folders by shuffling types\n",
        "  \"\"\"\n",
        "\n",
        "  to_train_dir = os.path.join(base_dir, \"training\")\n",
        "  to_val_dir = os.path.join(base_dir, \"validation\")\n",
        "  \n",
        "  for type_key in type_path_dict.keys():\n",
        "    tmp_type_files = []\n",
        "    type_files = type_path_dict[type_key]\n",
        "\n",
        "    for f in type_files:\n",
        "      if os.path.getsize(f):\n",
        "        tmp_type_files.append(f)\n",
        "      elif f == \"/content/pokemon/main-sprites/black-white/0.png\":\n",
        "        print(\"Fucking egg found! : \", f)\n",
        "        continue\n",
        "      else:\n",
        "        print(\"{} is zero length, so ignoring.\".format(f))\n",
        "    n_type = len(tmp_type_files)\n",
        "    shuffled = random.sample(tmp_type_files, n_type)\n",
        "    \n",
        "    if to_training:\n",
        "      for type_path in shuffled:\n",
        "        to_copy = os.path.join(to_train_dir, type_key)\n",
        "        copy_name = \"\".join(type_path.split(\"/\")[3:])\n",
        "        shutil.copyfile(type_path, os.path.join(to_copy, copy_name))\n",
        "    else:\n",
        "      for type_path in shuffled:\n",
        "        to_copy = os.path.join(to_val_dir, type_key)\n",
        "        copy_name = \"\".join(type_path.split(\"/\")[3:])\n",
        "        shutil.copyfile(type_path, os.path.join(to_copy, copy_name))"
      ],
      "metadata": {
        "id": "xfpbNMSvsopi"
      },
      "execution_count": null,
      "outputs": []
    },
    {
      "cell_type": "code",
      "source": [
        "# DO NOT RUN\n",
        "\n",
        "split_data2(BASE_DIR, conquest_type_path_dict)\n",
        "split_data2(BASE_DIR, icons_type_path_dict)\n",
        "split_data2(BASE_DIR, main_sprites_type_path_dict)\n",
        "split_data2(BASE_DIR, overworld_type_path_dict)\n",
        "split_data2(BASE_DIR, sugimori_type_path_dict, False)"
      ],
      "metadata": {
        "id": "A3abkPBytDwS"
      },
      "execution_count": null,
      "outputs": []
    },
    {
      "cell_type": "code",
      "source": [
        "def train_val_generators_1(train_dir, val_dir):\n",
        "  from tensorflow.keras.preprocessing.image import ImageDataGenerator\n",
        "  train_gen = ImageDataGenerator(rescale=1/255.)\n",
        "  val_gen = ImageDataGenerator(rescale=1/255.)\n",
        "\n",
        "  train_generator = train_gen.flow_from_directory(directory=train_dir,\n",
        "                                                  batch_size=32,\n",
        "                                                  class_mode=\"categorical\",\n",
        "                                                  target_size=(32, 32))\n",
        "  val_generator = val_gen.flow_from_directory(directory=val_dir,\n",
        "                                              batch_size=32,\n",
        "                                              class_mode=\"categorical\",\n",
        "                                              target_size=(32, 32))\n",
        "  return train_generator, val_generator"
      ],
      "metadata": {
        "id": "Bm0jgeJRYiLz"
      },
      "execution_count": 30,
      "outputs": []
    },
    {
      "cell_type": "code",
      "source": [
        "train_dir = \"/content/Pokemons/training\"\n",
        "val_dir = \"/content/Pokemons/validation\""
      ],
      "metadata": {
        "id": "QFl1HIwdVlJ2"
      },
      "execution_count": 31,
      "outputs": []
    },
    {
      "cell_type": "code",
      "source": [
        "# DO NOT RUN\n",
        "\n",
        "train_dir2 = \"/content/Pokemons2/training\"\n",
        "val_dir2 = \"/content/Pokemons2/validation\""
      ],
      "metadata": {
        "id": "Kv5GxViYuPaJ"
      },
      "execution_count": 32,
      "outputs": []
    },
    {
      "cell_type": "code",
      "source": [
        "train_generator, val_generator = train_val_generators_1(train_dir, val_dir)"
      ],
      "metadata": {
        "colab": {
          "base_uri": "https://localhost:8080/"
        },
        "id": "htRjzDdLZY6G",
        "outputId": "18db897f-b7d5-4224-d8d5-9e225ad59f0e"
      },
      "execution_count": 33,
      "outputs": [
        {
          "output_type": "stream",
          "name": "stdout",
          "text": [
            "Found 7148 images belonging to 18 classes.\n",
            "Found 4072 images belonging to 18 classes.\n"
          ]
        }
      ]
    },
    {
      "cell_type": "markdown",
      "source": [
        "# Model 1 -> overfitted"
      ],
      "metadata": {
        "id": "5_S7iI_ifObh"
      }
    },
    {
      "cell_type": "code",
      "source": [
        "# define callbacks\n",
        "\n",
        "import tensorflow as tf\n",
        "class myCallback(tf.keras.callbacks.Callback):\n",
        "  def on_epoch_end(self, model, logs={}):\n",
        "    if logs.get(\"accuracy\") > 0.9:\n",
        "      print(\"\\nAccuracy is greater than 90%, so stopping.\")\n",
        "      self.model.stop_training = True\n",
        "\n",
        "callback_earlystopping = tf.keras.callbacks.EarlyStopping(monitor='loss', patience=5)"
      ],
      "metadata": {
        "id": "wwX1q1qNcoYv"
      },
      "execution_count": 34,
      "outputs": []
    },
    {
      "cell_type": "code",
      "source": [
        "def create_model():\n",
        "  model = Sequential([Conv2D(32, (3,3), input_shape=(32, 32, 3), activation=\"relu\"),\n",
        "                               MaxPooling2D(2,2),\n",
        "                               Conv2D(32, (3,3), activation=\"relu\"),\n",
        "                               MaxPooling2D(2,2),\n",
        "                               Dropout(0.2),\n",
        "                               \n",
        "                               Flatten(),\n",
        "                               Dense(128, activation=\"relu\"),\n",
        "                               Dense(18, activation=\"softmax\")\n",
        "                               ])\n",
        "  model.compile(optimizer=\"adam\", loss=\"categorical_crossentropy\", metrics=[\"accuracy\"])\n",
        "\n",
        "  return model"
      ],
      "metadata": {
        "id": "PSt8BVdsZg-2"
      },
      "execution_count": null,
      "outputs": []
    },
    {
      "cell_type": "code",
      "source": [
        "model = create_model()"
      ],
      "metadata": {
        "id": "lcBt0-vWZmM7"
      },
      "execution_count": null,
      "outputs": []
    },
    {
      "cell_type": "code",
      "source": [
        "callback = myCallback()"
      ],
      "metadata": {
        "id": "EXO_35F6dGNO"
      },
      "execution_count": null,
      "outputs": []
    },
    {
      "cell_type": "code",
      "source": [
        "tf.keras.backend.clear_session()\n",
        "\n",
        "hist1 = model.fit(train_generator, validation_data=val_generator, epochs=100, callbacks=[callback])"
      ],
      "metadata": {
        "colab": {
          "base_uri": "https://localhost:8080/"
        },
        "id": "RJyTONGzZoik",
        "outputId": "2d269dde-0be3-4e53-edfe-942f8b163b4c"
      },
      "execution_count": null,
      "outputs": [
        {
          "output_type": "stream",
          "name": "stdout",
          "text": [
            "Epoch 1/100\n",
            " 15/221 [=>............................] - ETA: 28s - loss: 2.7467 - accuracy: 0.1396"
          ]
        },
        {
          "output_type": "stream",
          "name": "stderr",
          "text": [
            "/usr/local/lib/python3.7/dist-packages/PIL/Image.py:960: UserWarning: Palette images with Transparency expressed in bytes should be converted to RGBA images\n",
            "  \"Palette images with Transparency expressed in bytes should be \"\n"
          ]
        },
        {
          "output_type": "stream",
          "name": "stdout",
          "text": [
            "221/221 [==============================] - 25s 115ms/step - loss: 2.6521 - accuracy: 0.1603 - val_loss: 2.6582 - val_accuracy: 0.1622\n",
            "Epoch 2/100\n",
            "221/221 [==============================] - 23s 105ms/step - loss: 2.6105 - accuracy: 0.1771 - val_loss: 2.6265 - val_accuracy: 0.1828\n",
            "Epoch 3/100\n",
            "221/221 [==============================] - 23s 103ms/step - loss: 2.5659 - accuracy: 0.1833 - val_loss: 2.5999 - val_accuracy: 0.1804\n",
            "Epoch 4/100\n",
            "221/221 [==============================] - 25s 115ms/step - loss: 2.5049 - accuracy: 0.2009 - val_loss: 2.5385 - val_accuracy: 0.1877\n",
            "Epoch 5/100\n",
            "221/221 [==============================] - 23s 104ms/step - loss: 2.4112 - accuracy: 0.2313 - val_loss: 2.5376 - val_accuracy: 0.1913\n",
            "Epoch 6/100\n",
            "221/221 [==============================] - 23s 103ms/step - loss: 2.2779 - accuracy: 0.2629 - val_loss: 2.5056 - val_accuracy: 0.1949\n",
            "Epoch 7/100\n",
            "221/221 [==============================] - 23s 104ms/step - loss: 2.1232 - accuracy: 0.3148 - val_loss: 2.4216 - val_accuracy: 0.2458\n",
            "Epoch 8/100\n",
            "221/221 [==============================] - 24s 107ms/step - loss: 1.9646 - accuracy: 0.3689 - val_loss: 2.4122 - val_accuracy: 0.2349\n",
            "Epoch 9/100\n",
            "221/221 [==============================] - 24s 109ms/step - loss: 1.7916 - accuracy: 0.4261 - val_loss: 2.4407 - val_accuracy: 0.2433\n",
            "Epoch 10/100\n",
            "221/221 [==============================] - 24s 109ms/step - loss: 1.6285 - accuracy: 0.4723 - val_loss: 2.3911 - val_accuracy: 0.2663\n",
            "Epoch 11/100\n",
            "221/221 [==============================] - 23s 102ms/step - loss: 1.4555 - accuracy: 0.5392 - val_loss: 2.3734 - val_accuracy: 0.2930\n",
            "Epoch 12/100\n",
            "221/221 [==============================] - 23s 103ms/step - loss: 1.3061 - accuracy: 0.5822 - val_loss: 2.4669 - val_accuracy: 0.2942\n",
            "Epoch 13/100\n",
            "221/221 [==============================] - 23s 103ms/step - loss: 1.1610 - accuracy: 0.6331 - val_loss: 2.4604 - val_accuracy: 0.3184\n",
            "Epoch 14/100\n",
            "221/221 [==============================] - 23s 102ms/step - loss: 1.0444 - accuracy: 0.6630 - val_loss: 2.5160 - val_accuracy: 0.3293\n",
            "Epoch 15/100\n",
            "221/221 [==============================] - 23s 104ms/step - loss: 0.9463 - accuracy: 0.6954 - val_loss: 2.5805 - val_accuracy: 0.3196\n",
            "Epoch 16/100\n",
            "221/221 [==============================] - 23s 102ms/step - loss: 0.8356 - accuracy: 0.7281 - val_loss: 2.5771 - val_accuracy: 0.3232\n",
            "Epoch 17/100\n",
            "221/221 [==============================] - 23s 103ms/step - loss: 0.7610 - accuracy: 0.7511 - val_loss: 2.6836 - val_accuracy: 0.3475\n",
            "Epoch 18/100\n",
            "221/221 [==============================] - 23s 103ms/step - loss: 0.6856 - accuracy: 0.7814 - val_loss: 2.7313 - val_accuracy: 0.3354\n",
            "Epoch 19/100\n",
            "221/221 [==============================] - 23s 102ms/step - loss: 0.6029 - accuracy: 0.8069 - val_loss: 2.8325 - val_accuracy: 0.3632\n",
            "Epoch 20/100\n",
            "221/221 [==============================] - 23s 102ms/step - loss: 0.5638 - accuracy: 0.8191 - val_loss: 2.9092 - val_accuracy: 0.3668\n",
            "Epoch 21/100\n",
            "221/221 [==============================] - 23s 102ms/step - loss: 0.5139 - accuracy: 0.8358 - val_loss: 2.9214 - val_accuracy: 0.3620\n",
            "Epoch 22/100\n",
            "221/221 [==============================] - 23s 103ms/step - loss: 0.4733 - accuracy: 0.8495 - val_loss: 2.9492 - val_accuracy: 0.3644\n",
            "Epoch 23/100\n",
            "221/221 [==============================] - 23s 102ms/step - loss: 0.4338 - accuracy: 0.8614 - val_loss: 3.0683 - val_accuracy: 0.3680\n",
            "Epoch 24/100\n",
            "221/221 [==============================] - 23s 104ms/step - loss: 0.4022 - accuracy: 0.8723 - val_loss: 3.1600 - val_accuracy: 0.3741\n",
            "Epoch 25/100\n",
            "221/221 [==============================] - 23s 102ms/step - loss: 0.3682 - accuracy: 0.8851 - val_loss: 3.1841 - val_accuracy: 0.3814\n",
            "Epoch 26/100\n",
            "221/221 [==============================] - 23s 103ms/step - loss: 0.3287 - accuracy: 0.8970 - val_loss: 3.2588 - val_accuracy: 0.4068\n",
            "Epoch 27/100\n",
            "221/221 [==============================] - 24s 108ms/step - loss: 0.3328 - accuracy: 0.8920 - val_loss: 3.1939 - val_accuracy: 0.3862\n",
            "Epoch 28/100\n",
            "221/221 [==============================] - 23s 104ms/step - loss: 0.2874 - accuracy: 0.9105 - val_loss: 3.3316 - val_accuracy: 0.3874\n",
            "Epoch 29/100\n",
            "221/221 [==============================] - 23s 104ms/step - loss: 0.2951 - accuracy: 0.9072 - val_loss: 3.2947 - val_accuracy: 0.4068\n",
            "Epoch 30/100\n",
            "221/221 [==============================] - 23s 102ms/step - loss: 0.2757 - accuracy: 0.9100 - val_loss: 3.4025 - val_accuracy: 0.3741\n",
            "Epoch 31/100\n",
            "221/221 [==============================] - 22s 102ms/step - loss: 0.2472 - accuracy: 0.9234 - val_loss: 3.5147 - val_accuracy: 0.3935\n",
            "Epoch 32/100\n",
            "221/221 [==============================] - 23s 103ms/step - loss: 0.2489 - accuracy: 0.9232 - val_loss: 3.5443 - val_accuracy: 0.3935\n",
            "Epoch 33/100\n",
            "221/221 [==============================] - 23s 102ms/step - loss: 0.2401 - accuracy: 0.9265 - val_loss: 3.7961 - val_accuracy: 0.3959\n",
            "Epoch 34/100\n",
            "221/221 [==============================] - 23s 102ms/step - loss: 0.2323 - accuracy: 0.9254 - val_loss: 3.6644 - val_accuracy: 0.3995\n",
            "Epoch 35/100\n",
            "221/221 [==============================] - 24s 109ms/step - loss: 0.2049 - accuracy: 0.9340 - val_loss: 3.7053 - val_accuracy: 0.4007\n",
            "Epoch 36/100\n",
            "221/221 [==============================] - 23s 103ms/step - loss: 0.1970 - accuracy: 0.9397 - val_loss: 3.7650 - val_accuracy: 0.3874\n",
            "Epoch 37/100\n",
            "221/221 [==============================] - 23s 103ms/step - loss: 0.1918 - accuracy: 0.9388 - val_loss: 3.8169 - val_accuracy: 0.3898\n",
            "Epoch 38/100\n",
            "221/221 [==============================] - 23s 106ms/step - loss: 0.1949 - accuracy: 0.9362 - val_loss: 3.8336 - val_accuracy: 0.3923\n",
            "Epoch 39/100\n",
            "221/221 [==============================] - 23s 105ms/step - loss: 0.1830 - accuracy: 0.9444 - val_loss: 3.9928 - val_accuracy: 0.3838\n",
            "Epoch 40/100\n",
            "221/221 [==============================] - 23s 104ms/step - loss: 0.1730 - accuracy: 0.9438 - val_loss: 3.7205 - val_accuracy: 0.3935\n",
            "Epoch 41/100\n",
            "221/221 [==============================] - 23s 104ms/step - loss: 0.1664 - accuracy: 0.9479 - val_loss: 3.8350 - val_accuracy: 0.3910\n",
            "Epoch 42/100\n",
            "221/221 [==============================] - 23s 104ms/step - loss: 0.1628 - accuracy: 0.9474 - val_loss: 3.7884 - val_accuracy: 0.3959\n",
            "Epoch 43/100\n",
            "221/221 [==============================] - 23s 103ms/step - loss: 0.1662 - accuracy: 0.9489 - val_loss: 3.9944 - val_accuracy: 0.3995\n",
            "Epoch 44/100\n",
            "221/221 [==============================] - 23s 102ms/step - loss: 0.1573 - accuracy: 0.9520 - val_loss: 4.1485 - val_accuracy: 0.4140\n",
            "Epoch 45/100\n",
            "221/221 [==============================] - 24s 108ms/step - loss: 0.1585 - accuracy: 0.9495 - val_loss: 3.9841 - val_accuracy: 0.3923\n",
            "Epoch 46/100\n",
            "221/221 [==============================] - 23s 103ms/step - loss: 0.1562 - accuracy: 0.9479 - val_loss: 4.0540 - val_accuracy: 0.3850\n",
            "Epoch 47/100\n",
            "221/221 [==============================] - 23s 103ms/step - loss: 0.1533 - accuracy: 0.9515 - val_loss: 4.0518 - val_accuracy: 0.4044\n",
            "Epoch 48/100\n",
            "221/221 [==============================] - 23s 102ms/step - loss: 0.1478 - accuracy: 0.9559 - val_loss: 3.9071 - val_accuracy: 0.4068\n",
            "Epoch 49/100\n",
            "221/221 [==============================] - 23s 104ms/step - loss: 0.1240 - accuracy: 0.9587 - val_loss: 4.1610 - val_accuracy: 0.3935\n",
            "Epoch 50/100\n",
            "221/221 [==============================] - 23s 103ms/step - loss: 0.1351 - accuracy: 0.9569 - val_loss: 4.0644 - val_accuracy: 0.4165\n",
            "Epoch 51/100\n",
            "221/221 [==============================] - 23s 103ms/step - loss: 0.1316 - accuracy: 0.9566 - val_loss: 4.2516 - val_accuracy: 0.4140\n",
            "Epoch 52/100\n",
            "221/221 [==============================] - 22s 101ms/step - loss: 0.1487 - accuracy: 0.9528 - val_loss: 4.1939 - val_accuracy: 0.3947\n"
          ]
        }
      ]
    },
    {
      "cell_type": "code",
      "source": [
        "eps = range(len(hist1.history[\"loss\"]))\n",
        "plt.figure(figsize=(10, 6))\n",
        "plt.plot(eps, hist1.history[\"loss\"])\n",
        "plt.plot(eps, hist1.history[\"val_loss\"])\n",
        "plt.legend([\"loss\", \"val_loss\"])"
      ],
      "metadata": {
        "colab": {
          "base_uri": "https://localhost:8080/",
          "height": 394
        },
        "id": "9iPSNT-za1PO",
        "outputId": "6635e812-aa8d-47b9-a461-1a415972bd1c"
      },
      "execution_count": null,
      "outputs": [
        {
          "output_type": "execute_result",
          "data": {
            "text/plain": [
              "<matplotlib.legend.Legend at 0x7fecc8170c90>"
            ]
          },
          "metadata": {},
          "execution_count": 97
        },
        {
          "output_type": "display_data",
          "data": {
            "text/plain": [
              "<Figure size 720x432 with 1 Axes>"
            ],
            "image/png": "[encoded data removed]"
          },
          "metadata": {
            "needs_background": "light"
          }
        }
      ]
    },
    {
      "cell_type": "code",
      "source": [
        "eps = range(len(hist1.history[\"accuracy\"]))\n",
        "plt.figure(figsize=(10, 6))\n",
        "plt.plot(eps, hist1.history[\"accuracy\"])\n",
        "plt.plot(eps, hist1.history[\"val_accuracy\"])\n",
        "plt.legend([\"accuracy\", \"val_accuracy\"])"
      ],
      "metadata": {
        "colab": {
          "base_uri": "https://localhost:8080/",
          "height": 394
        },
        "id": "dIIO3kxqe9pY",
        "outputId": "aaaa32ab-e515-460f-c2ca-3f77bcbb6bf7"
      },
      "execution_count": null,
      "outputs": [
        {
          "output_type": "execute_result",
          "data": {
            "text/plain": [
              "<matplotlib.legend.Legend at 0x7fecc8164810>"
            ]
          },
          "metadata": {},
          "execution_count": 98
        },
        {
          "output_type": "display_data",
          "data": {
            "text/plain": [
              "<Figure size 720x432 with 1 Axes>"
            ],
            "image/png": "[encoded data removed]"
          },
          "metadata": {
            "needs_background": "light"
          }
        }
      ]
    },
    {
      "cell_type": "markdown",
      "source": [
        "# Model 2\n",
        "\n",
        "- added batch norm\n",
        "- more dropouts"
      ],
      "metadata": {
        "id": "m8mLT3aafTan"
      }
    },
    {
      "cell_type": "code",
      "source": [
        "def create_model():\n",
        "  model = Sequential([Conv2D(32, (3,3), input_shape=(32, 32, 3), activation=\"relu\"),\n",
        "                               BatchNormalization(),\n",
        "                               MaxPooling2D(2,2),\n",
        "                               Dropout(0.2),\n",
        "                      \n",
        "                               Conv2D(32, (3,3), activation=\"relu\"),\n",
        "                               BatchNormalization(),\n",
        "                               MaxPooling2D(2,2),\n",
        "                               Dropout(0.2),\n",
        "                               \n",
        "                               Flatten(),\n",
        "                               Dense(128, activation=\"relu\"),\n",
        "                               Dense(18, activation=\"softmax\")\n",
        "                               ])\n",
        "  model.compile(optimizer=\"adam\", loss=\"categorical_crossentropy\", metrics=[\"accuracy\"])\n",
        "\n",
        "  return model"
      ],
      "metadata": {
        "id": "BRdXyUNYVCpW"
      },
      "execution_count": 35,
      "outputs": []
    },
    {
      "cell_type": "code",
      "source": [
        "def train_val_generators_2(train_dir, val_dir):\n",
        "  from tensorflow.keras.preprocessing.image import ImageDataGenerator\n",
        "  train_gen = ImageDataGenerator(rescale=1/255.,\n",
        "                                 rotation_range=40,\n",
        "                                 width_shift_range=0.2,\n",
        "                                 height_shift_range=0.2,\n",
        "                                 shear_range=0.2,\n",
        "                                 zoom_range=0.2,\n",
        "                                 horizontal_flip=True,\n",
        "                                 fill_mode=\"nearest\")\n",
        "  val_gen = ImageDataGenerator(rescale=1/255.)\n",
        "\n",
        "  train_generator = train_gen.flow_from_directory(directory=train_dir,\n",
        "                                                  batch_size=32,\n",
        "                                                  class_mode=\"categorical\",\n",
        "                                                  target_size=(64, 64))\n",
        "  val_generator = val_gen.flow_from_directory(directory=val_dir,\n",
        "                                              batch_size=32,\n",
        "                                              class_mode=\"categorical\",\n",
        "                                              target_size=(64, 64))\n",
        "  return train_generator, val_generator"
      ],
      "metadata": {
        "id": "WtzpuxWefJdt"
      },
      "execution_count": null,
      "outputs": []
    },
    {
      "cell_type": "code",
      "source": [
        "train_generator, val_generator = train_val_generators_1(train_dir, val_dir)\n",
        "model2 = create_model()\n",
        "callback_acc = myCallback()\n",
        "\n",
        "hist2 = model2.fit(train_generator, validation_data=val_generator, epochs=1000, callbacks=[callback_acc, callback_earlystopping])"
      ],
      "metadata": {
        "colab": {
          "base_uri": "https://localhost:8080/"
        },
        "id": "Of1oVfp-XnLv",
        "outputId": "51b76139-960e-4d67-c5e2-10f1e6234af3"
      },
      "execution_count": 36,
      "outputs": [
        {
          "output_type": "stream",
          "name": "stdout",
          "text": [
            "Found 7148 images belonging to 18 classes.\n",
            "Found 4072 images belonging to 18 classes.\n",
            "Epoch 1/1000\n",
            "  7/224 [..............................] - ETA: 18s - loss: 3.9200 - accuracy: 0.0714"
          ]
        },
        {
          "output_type": "stream",
          "name": "stderr",
          "text": [
            "/usr/local/lib/python3.7/dist-packages/PIL/Image.py:960: UserWarning: Palette images with Transparency expressed in bytes should be converted to RGBA images\n",
            "  \"Palette images with Transparency expressed in bytes should be \"\n"
          ]
        },
        {
          "output_type": "stream",
          "name": "stdout",
          "text": [
            "224/224 [==============================] - 42s 142ms/step - loss: 2.7968 - accuracy: 0.1465 - val_loss: 4.0399 - val_accuracy: 0.0516\n",
            "Epoch 2/1000\n",
            "224/224 [==============================] - 32s 145ms/step - loss: 2.6142 - accuracy: 0.1746 - val_loss: 2.6767 - val_accuracy: 0.1515\n",
            "Epoch 3/1000\n",
            "224/224 [==============================] - 31s 139ms/step - loss: 2.5658 - accuracy: 0.1805 - val_loss: 2.4904 - val_accuracy: 0.2070\n",
            "Epoch 4/1000\n",
            "224/224 [==============================] - 31s 140ms/step - loss: 2.4985 - accuracy: 0.1956 - val_loss: 2.4255 - val_accuracy: 0.2267\n",
            "Epoch 5/1000\n",
            "224/224 [==============================] - 31s 140ms/step - loss: 2.4266 - accuracy: 0.2269 - val_loss: 2.3330 - val_accuracy: 0.2579\n",
            "Epoch 6/1000\n",
            "224/224 [==============================] - 31s 140ms/step - loss: 2.3161 - accuracy: 0.2454 - val_loss: 2.1665 - val_accuracy: 0.3121\n",
            "Epoch 7/1000\n",
            "224/224 [==============================] - 31s 140ms/step - loss: 2.1844 - accuracy: 0.2925 - val_loss: 2.0310 - val_accuracy: 0.3536\n",
            "Epoch 8/1000\n",
            "224/224 [==============================] - 31s 139ms/step - loss: 2.0260 - accuracy: 0.3398 - val_loss: 1.8079 - val_accuracy: 0.4501\n",
            "Epoch 9/1000\n",
            "224/224 [==============================] - 32s 145ms/step - loss: 1.8575 - accuracy: 0.4011 - val_loss: 1.6576 - val_accuracy: 0.4804\n",
            "Epoch 10/1000\n",
            "224/224 [==============================] - 31s 140ms/step - loss: 1.6888 - accuracy: 0.4584 - val_loss: 1.4631 - val_accuracy: 0.5597\n",
            "Epoch 11/1000\n",
            "224/224 [==============================] - 31s 139ms/step - loss: 1.5479 - accuracy: 0.4992 - val_loss: 1.3630 - val_accuracy: 0.5928\n",
            "Epoch 12/1000\n",
            "224/224 [==============================] - 31s 139ms/step - loss: 1.4054 - accuracy: 0.5467 - val_loss: 1.2240 - val_accuracy: 0.6412\n",
            "Epoch 13/1000\n",
            "224/224 [==============================] - 31s 139ms/step - loss: 1.2854 - accuracy: 0.5837 - val_loss: 1.1424 - val_accuracy: 0.6702\n",
            "Epoch 14/1000\n",
            "224/224 [==============================] - 31s 139ms/step - loss: 1.1844 - accuracy: 0.6175 - val_loss: 1.0962 - val_accuracy: 0.6876\n",
            "Epoch 15/1000\n",
            "224/224 [==============================] - 31s 141ms/step - loss: 1.0813 - accuracy: 0.6455 - val_loss: 0.9857 - val_accuracy: 0.7245\n",
            "Epoch 16/1000\n",
            "224/224 [==============================] - 32s 145ms/step - loss: 1.0197 - accuracy: 0.6686 - val_loss: 0.9061 - val_accuracy: 0.7544\n",
            "Epoch 17/1000\n",
            "224/224 [==============================] - 31s 139ms/step - loss: 0.9265 - accuracy: 0.6952 - val_loss: 0.9440 - val_accuracy: 0.7502\n",
            "Epoch 18/1000\n",
            "224/224 [==============================] - 31s 139ms/step - loss: 0.8676 - accuracy: 0.7136 - val_loss: 0.8641 - val_accuracy: 0.7844\n",
            "Epoch 19/1000\n",
            "224/224 [==============================] - 31s 140ms/step - loss: 0.7874 - accuracy: 0.7371 - val_loss: 0.8333 - val_accuracy: 0.7932\n",
            "Epoch 20/1000\n",
            "224/224 [==============================] - 32s 143ms/step - loss: 0.7449 - accuracy: 0.7469 - val_loss: 0.8170 - val_accuracy: 0.8033\n",
            "Epoch 21/1000\n",
            "224/224 [==============================] - 32s 142ms/step - loss: 0.7144 - accuracy: 0.7647 - val_loss: 0.7900 - val_accuracy: 0.8129\n",
            "Epoch 22/1000\n",
            "224/224 [==============================] - 33s 147ms/step - loss: 0.6664 - accuracy: 0.7799 - val_loss: 0.7537 - val_accuracy: 0.8276\n",
            "Epoch 23/1000\n",
            "224/224 [==============================] - 32s 142ms/step - loss: 0.6354 - accuracy: 0.7909 - val_loss: 0.7227 - val_accuracy: 0.8399\n",
            "Epoch 24/1000\n",
            "224/224 [==============================] - 32s 142ms/step - loss: 0.6014 - accuracy: 0.7994 - val_loss: 0.7258 - val_accuracy: 0.8396\n",
            "Epoch 25/1000\n",
            "224/224 [==============================] - 32s 143ms/step - loss: 0.5700 - accuracy: 0.8103 - val_loss: 0.7355 - val_accuracy: 0.8445\n",
            "Epoch 26/1000\n",
            "224/224 [==============================] - 31s 141ms/step - loss: 0.5159 - accuracy: 0.8302 - val_loss: 0.7095 - val_accuracy: 0.8519\n",
            "Epoch 27/1000\n",
            "224/224 [==============================] - 31s 141ms/step - loss: 0.5438 - accuracy: 0.8208 - val_loss: 0.7316 - val_accuracy: 0.8546\n",
            "Epoch 28/1000\n",
            "224/224 [==============================] - 32s 143ms/step - loss: 0.4976 - accuracy: 0.8344 - val_loss: 0.7280 - val_accuracy: 0.8556\n",
            "Epoch 29/1000\n",
            "224/224 [==============================] - 34s 152ms/step - loss: 0.4948 - accuracy: 0.8320 - val_loss: 0.8168 - val_accuracy: 0.8455\n",
            "Epoch 30/1000\n",
            "224/224 [==============================] - 32s 140ms/step - loss: 0.4758 - accuracy: 0.8426 - val_loss: 0.7566 - val_accuracy: 0.8536\n",
            "Epoch 31/1000\n",
            "224/224 [==============================] - 32s 145ms/step - loss: 0.4584 - accuracy: 0.8458 - val_loss: 0.7300 - val_accuracy: 0.8637\n",
            "Epoch 32/1000\n",
            "224/224 [==============================] - 32s 142ms/step - loss: 0.4241 - accuracy: 0.8572 - val_loss: 0.7351 - val_accuracy: 0.8721\n",
            "Epoch 33/1000\n",
            "224/224 [==============================] - 32s 140ms/step - loss: 0.4173 - accuracy: 0.8632 - val_loss: 0.7061 - val_accuracy: 0.8782\n",
            "Epoch 34/1000\n",
            "224/224 [==============================] - 32s 142ms/step - loss: 0.4041 - accuracy: 0.8644 - val_loss: 0.7497 - val_accuracy: 0.8721\n",
            "Epoch 35/1000\n",
            "224/224 [==============================] - 33s 147ms/step - loss: 0.4020 - accuracy: 0.8667 - val_loss: 0.7715 - val_accuracy: 0.8676\n",
            "Epoch 36/1000\n",
            "224/224 [==============================] - 32s 141ms/step - loss: 0.3633 - accuracy: 0.8791 - val_loss: 0.7761 - val_accuracy: 0.8728\n",
            "Epoch 37/1000\n",
            "224/224 [==============================] - 32s 143ms/step - loss: 0.3606 - accuracy: 0.8830 - val_loss: 0.8216 - val_accuracy: 0.8593\n",
            "Epoch 38/1000\n",
            "224/224 [==============================] - 32s 141ms/step - loss: 0.3661 - accuracy: 0.8793 - val_loss: 0.7767 - val_accuracy: 0.8721\n",
            "Epoch 39/1000\n",
            "224/224 [==============================] - 32s 144ms/step - loss: 0.3534 - accuracy: 0.8825 - val_loss: 0.7670 - val_accuracy: 0.8772\n",
            "Epoch 40/1000\n",
            "224/224 [==============================] - 32s 143ms/step - loss: 0.3217 - accuracy: 0.8906 - val_loss: 0.7896 - val_accuracy: 0.8814\n",
            "Epoch 41/1000\n",
            "224/224 [==============================] - 33s 147ms/step - loss: 0.3539 - accuracy: 0.8832 - val_loss: 0.7738 - val_accuracy: 0.8794\n",
            "Epoch 42/1000\n",
            "224/224 [==============================] - 32s 142ms/step - loss: 0.3517 - accuracy: 0.8847 - val_loss: 0.7855 - val_accuracy: 0.8740\n",
            "Epoch 43/1000\n",
            "224/224 [==============================] - 32s 143ms/step - loss: 0.3401 - accuracy: 0.8898 - val_loss: 0.7435 - val_accuracy: 0.8824\n",
            "Epoch 44/1000\n",
            "224/224 [==============================] - 32s 143ms/step - loss: 0.3176 - accuracy: 0.8940 - val_loss: 0.7535 - val_accuracy: 0.8814\n",
            "Epoch 45/1000\n",
            "224/224 [==============================] - 32s 142ms/step - loss: 0.3345 - accuracy: 0.8896 - val_loss: 0.7975 - val_accuracy: 0.8809\n",
            "Epoch 46/1000\n",
            "222/224 [============================>.] - ETA: 0s - loss: 0.3058 - accuracy: 0.9012\n",
            "Accuracy is greater than 90%, so stopping.\n",
            "224/224 [==============================] - 32s 142ms/step - loss: 0.3055 - accuracy: 0.9011 - val_loss: 0.7486 - val_accuracy: 0.8858\n"
          ]
        }
      ]
    },
    {
      "cell_type": "code",
      "source": [
        "eps = range(len(hist2.history[\"loss\"]))\n",
        "plt.figure(figsize=(10, 6))\n",
        "plt.plot(eps, hist2.history[\"loss\"])\n",
        "plt.plot(eps, hist2.history[\"val_loss\"])\n",
        "plt.legend([\"loss\", \"val_loss\"])\n",
        "\n",
        "eps = range(len(hist2.history[\"accuracy\"]))\n",
        "plt.figure(figsize=(10, 6))\n",
        "plt.plot(eps, hist2.history[\"accuracy\"])\n",
        "plt.plot(eps, hist2.history[\"val_accuracy\"])\n",
        "plt.legend([\"accuracy\", \"val_accuracy\"])"
      ],
      "metadata": {
        "colab": {
          "base_uri": "https://localhost:8080/",
          "height": 754
        },
        "id": "2BxhXoWJZ4rv",
        "outputId": "10e1f72b-cbb9-4d1b-a924-8b1d65692111"
      },
      "execution_count": 37,
      "outputs": [
        {
          "output_type": "execute_result",
          "data": {
            "text/plain": [
              "<matplotlib.legend.Legend at 0x7f9e80085850>"
            ]
          },
          "metadata": {},
          "execution_count": 37
        },
        {
          "output_type": "display_data",
          "data": {
            "text/plain": [
              "<Figure size 720x432 with 1 Axes>"
            ],
            "image/png": "[encoded data removed]"
          },
          "metadata": {
            "needs_background": "light"
          }
        },
        {
          "output_type": "display_data",
          "data": {
            "text/plain": [
              "<Figure size 720x432 with 1 Axes>"
            ],
            "image/png": "[encoded data removed]"
          },
          "metadata": {
            "needs_background": "light"
          }
        }
      ]
    },
    {
      "cell_type": "code",
      "source": [
        "# FOUND THE DESIRED RESULTS!"
      ],
      "metadata": {
        "id": "1b5muNGVyKcG"
      },
      "execution_count": 38,
      "outputs": []
    },
    {
      "cell_type": "code",
      "source": [
        "model2.save(\"model2.h5\")\n",
        "\n",
        "from google.colab import files\n",
        "files.download(\"model2.h5\")"
      ],
      "metadata": {
        "id": "V_46wphzvwEQ"
      },
      "execution_count": null,
      "outputs": []
    },
    {
      "cell_type": "markdown",
      "source": [
        "# Model 3\n",
        "### approach 1 - failed\n",
        "- increased dropout rates from 0.2 to 0.4\n",
        "- dense layer from 128 to 64\n",
        "\n",
        "### approach 2 - failed\n",
        "- more layers\n",
        "- change optimizer from adam to sgd\n",
        "\n",
        "### approach 3 - failed\n",
        "- activation -> selu\n",
        "- dropout 0.4\n",
        "\n",
        "### approach 4 - failed, extreme overfitting!\n",
        "- change dataset : all conquest, icons, main sprites and overworld poke zip images to train and sugimori to test\n",
        "- update callback to early stopping\n",
        "\n",
        "### approach 5 - failed, worst\n",
        "- augment data on changed dataset\n",
        "\n",
        "### approach 6 - failed\n",
        "- old dataset\n",
        "- additional one block conv2d\n",
        "\n",
        "### approach 7 -\n",
        "- newer dataset just use sugimori art"
      ],
      "metadata": {
        "id": "ilJWGMNcbkQg"
      }
    },
    {
      "cell_type": "code",
      "source": [
        "callback = tf.keras.callbacks.EarlyStopping(monitor='loss', patience=3)"
      ],
      "metadata": {
        "id": "doY8UiPWrcBW"
      },
      "execution_count": null,
      "outputs": []
    },
    {
      "cell_type": "code",
      "source": [
        "def create_model():\n",
        "  model = Sequential([Conv2D(32, (3,3), input_shape=(32, 32, 3), activation=\"relu\"),\n",
        "                               BatchNormalization(),\n",
        "                               MaxPooling2D(2,2),\n",
        "                               Dropout(0.2),\n",
        "                      \n",
        "                               Conv2D(32, (3,3), activation=\"relu\"),\n",
        "                               BatchNormalization(),\n",
        "                               MaxPooling2D(2,2),\n",
        "                               Dropout(0.2),\n",
        "                      \n",
        "                      Conv2D(32, (3,3), activation=\"relu\"),\n",
        "                               BatchNormalization(),\n",
        "                               MaxPooling2D(2,2),\n",
        "                               Dropout(0.2),\n",
        "                               \n",
        "                               Flatten(),\n",
        "                               Dense(128, activation=\"relu\"),\n",
        "                               Dense(18, activation=\"softmax\")\n",
        "                               ])\n",
        "  model.compile(optimizer=\"adam\", loss=\"categorical_crossentropy\", metrics=[\"accuracy\"])\n",
        "\n",
        "  return model"
      ],
      "metadata": {
        "id": "f2gvV8Xwbkfw"
      },
      "execution_count": null,
      "outputs": []
    },
    {
      "cell_type": "code",
      "source": [
        "tf.keras.backend.clear_session()\n",
        "\n",
        "train_generator, val_generator = train_val_generators_1(train_dir, val_dir)\n",
        "model3 = create_model()\n",
        "\n",
        "hist3 = model3.fit(train_generator, validation_data=val_generator, epochs=1000, callbacks=[callback])"
      ],
      "metadata": {
        "colab": {
          "base_uri": "https://localhost:8080/"
        },
        "id": "0WqmeBn2b4uq",
        "outputId": "75f18e9b-72a1-4328-993a-4048a572727f"
      },
      "execution_count": null,
      "outputs": [
        {
          "output_type": "stream",
          "name": "stdout",
          "text": [
            "Found 7048 images belonging to 18 classes.\n",
            "Found 826 images belonging to 18 classes.\n",
            "Epoch 1/1000\n",
            " 11/221 [>.............................] - ETA: 22s - loss: 3.6703 - accuracy: 0.1023"
          ]
        },
        {
          "output_type": "stream",
          "name": "stderr",
          "text": [
            "/usr/local/lib/python3.7/dist-packages/PIL/Image.py:960: UserWarning: Palette images with Transparency expressed in bytes should be converted to RGBA images\n",
            "  \"Palette images with Transparency expressed in bytes should be \"\n"
          ]
        },
        {
          "output_type": "stream",
          "name": "stdout",
          "text": [
            "221/221 [==============================] - 24s 106ms/step - loss: 2.8372 - accuracy: 0.1376 - val_loss: 3.0188 - val_accuracy: 0.0569\n",
            "Epoch 2/1000\n",
            "221/221 [==============================] - 22s 102ms/step - loss: 2.6623 - accuracy: 0.1573 - val_loss: 2.7862 - val_accuracy: 0.1065\n",
            "Epoch 3/1000\n",
            "221/221 [==============================] - 23s 103ms/step - loss: 2.6056 - accuracy: 0.1710 - val_loss: 2.6628 - val_accuracy: 0.1695\n",
            "Epoch 4/1000\n",
            "221/221 [==============================] - 23s 102ms/step - loss: 2.5799 - accuracy: 0.1791 - val_loss: 2.6835 - val_accuracy: 0.1380\n",
            "Epoch 5/1000\n",
            "221/221 [==============================] - 22s 102ms/step - loss: 2.5442 - accuracy: 0.1853 - val_loss: 2.5778 - val_accuracy: 0.1743\n",
            "Epoch 6/1000\n",
            "221/221 [==============================] - 22s 102ms/step - loss: 2.5143 - accuracy: 0.1921 - val_loss: 2.5825 - val_accuracy: 0.1755\n",
            "Epoch 7/1000\n",
            "221/221 [==============================] - 23s 103ms/step - loss: 2.4961 - accuracy: 0.1959 - val_loss: 2.5766 - val_accuracy: 0.1683\n",
            "Epoch 8/1000\n",
            "221/221 [==============================] - 23s 103ms/step - loss: 2.4630 - accuracy: 0.2052 - val_loss: 2.5035 - val_accuracy: 0.1913\n",
            "Epoch 9/1000\n",
            "221/221 [==============================] - 24s 107ms/step - loss: 2.4509 - accuracy: 0.2060 - val_loss: 2.5070 - val_accuracy: 0.2034\n",
            "Epoch 10/1000\n",
            "221/221 [==============================] - 23s 105ms/step - loss: 2.4130 - accuracy: 0.2175 - val_loss: 2.4885 - val_accuracy: 0.2034\n",
            "Epoch 11/1000\n",
            "221/221 [==============================] - 26s 117ms/step - loss: 2.3850 - accuracy: 0.2250 - val_loss: 2.5618 - val_accuracy: 0.1804\n",
            "Epoch 12/1000\n",
            "221/221 [==============================] - 23s 103ms/step - loss: 2.3465 - accuracy: 0.2299 - val_loss: 2.4654 - val_accuracy: 0.2010\n",
            "Epoch 13/1000\n",
            "221/221 [==============================] - 23s 104ms/step - loss: 2.3147 - accuracy: 0.2482 - val_loss: 2.4780 - val_accuracy: 0.2010\n",
            "Epoch 14/1000\n",
            "221/221 [==============================] - 23s 103ms/step - loss: 2.2825 - accuracy: 0.2636 - val_loss: 2.4953 - val_accuracy: 0.2107\n",
            "Epoch 15/1000\n",
            "221/221 [==============================] - 23s 104ms/step - loss: 2.2448 - accuracy: 0.2648 - val_loss: 2.5301 - val_accuracy: 0.1961\n",
            "Epoch 16/1000\n",
            "221/221 [==============================] - 24s 105ms/step - loss: 2.2267 - accuracy: 0.2743 - val_loss: 2.5236 - val_accuracy: 0.1816\n",
            "Epoch 17/1000\n",
            "221/221 [==============================] - 23s 104ms/step - loss: 2.1864 - accuracy: 0.2869 - val_loss: 2.4599 - val_accuracy: 0.2252\n",
            "Epoch 18/1000\n",
            "221/221 [==============================] - 24s 106ms/step - loss: 2.1642 - accuracy: 0.2910 - val_loss: 2.4445 - val_accuracy: 0.2337\n",
            "Epoch 19/1000\n",
            "221/221 [==============================] - 23s 103ms/step - loss: 2.1287 - accuracy: 0.3021 - val_loss: 2.4284 - val_accuracy: 0.2324\n",
            "Epoch 20/1000\n",
            "221/221 [==============================] - 23s 105ms/step - loss: 2.0966 - accuracy: 0.3114 - val_loss: 2.5149 - val_accuracy: 0.2167\n",
            "Epoch 21/1000\n",
            "221/221 [==============================] - 23s 103ms/step - loss: 2.0615 - accuracy: 0.3253 - val_loss: 2.4952 - val_accuracy: 0.2288\n",
            "Epoch 22/1000\n",
            "221/221 [==============================] - 23s 103ms/step - loss: 2.0246 - accuracy: 0.3347 - val_loss: 2.4529 - val_accuracy: 0.2312\n",
            "Epoch 23/1000\n",
            "221/221 [==============================] - 25s 114ms/step - loss: 2.0037 - accuracy: 0.3465 - val_loss: 2.3776 - val_accuracy: 0.2724\n",
            "Epoch 24/1000\n",
            "221/221 [==============================] - 26s 117ms/step - loss: 1.9813 - accuracy: 0.3490 - val_loss: 2.3576 - val_accuracy: 0.2663\n",
            "Epoch 25/1000\n",
            "221/221 [==============================] - 26s 119ms/step - loss: 1.9522 - accuracy: 0.3514 - val_loss: 2.3760 - val_accuracy: 0.2651\n",
            "Epoch 26/1000\n",
            "221/221 [==============================] - 24s 111ms/step - loss: 1.9260 - accuracy: 0.3646 - val_loss: 2.3496 - val_accuracy: 0.2990\n",
            "Epoch 27/1000\n",
            "221/221 [==============================] - 23s 104ms/step - loss: 1.9025 - accuracy: 0.3709 - val_loss: 2.3818 - val_accuracy: 0.2785\n",
            "Epoch 28/1000\n",
            "221/221 [==============================] - 23s 104ms/step - loss: 1.8885 - accuracy: 0.3788 - val_loss: 2.4365 - val_accuracy: 0.2591\n",
            "Epoch 29/1000\n",
            "221/221 [==============================] - 23s 104ms/step - loss: 1.8788 - accuracy: 0.3820 - val_loss: 2.3586 - val_accuracy: 0.2700\n",
            "Epoch 30/1000\n",
            "221/221 [==============================] - 24s 109ms/step - loss: 1.8537 - accuracy: 0.3915 - val_loss: 2.3913 - val_accuracy: 0.2700\n",
            "Epoch 31/1000\n",
            "221/221 [==============================] - 23s 104ms/step - loss: 1.8157 - accuracy: 0.4055 - val_loss: 2.4161 - val_accuracy: 0.2893\n",
            "Epoch 32/1000\n",
            "221/221 [==============================] - 23s 104ms/step - loss: 1.8190 - accuracy: 0.4027 - val_loss: 2.3149 - val_accuracy: 0.2978\n",
            "Epoch 33/1000\n",
            "221/221 [==============================] - 23s 102ms/step - loss: 1.7944 - accuracy: 0.4082 - val_loss: 2.3924 - val_accuracy: 0.2688\n",
            "Epoch 34/1000\n",
            "221/221 [==============================] - 24s 108ms/step - loss: 1.7911 - accuracy: 0.4049 - val_loss: 2.3140 - val_accuracy: 0.2954\n",
            "Epoch 35/1000\n",
            "221/221 [==============================] - 22s 102ms/step - loss: 1.7636 - accuracy: 0.4191 - val_loss: 2.3572 - val_accuracy: 0.2833\n",
            "Epoch 36/1000\n",
            "221/221 [==============================] - 22s 102ms/step - loss: 1.7465 - accuracy: 0.4170 - val_loss: 2.3443 - val_accuracy: 0.3002\n",
            "Epoch 37/1000\n",
            "221/221 [==============================] - 23s 102ms/step - loss: 1.7359 - accuracy: 0.4271 - val_loss: 2.3945 - val_accuracy: 0.2906\n",
            "Epoch 38/1000\n",
            "221/221 [==============================] - 23s 106ms/step - loss: 1.7203 - accuracy: 0.4350 - val_loss: 2.4042 - val_accuracy: 0.2990\n",
            "Epoch 39/1000\n",
            "221/221 [==============================] - 24s 109ms/step - loss: 1.7104 - accuracy: 0.4388 - val_loss: 2.3947 - val_accuracy: 0.2954\n",
            "Epoch 40/1000\n",
            "221/221 [==============================] - 22s 101ms/step - loss: 1.6869 - accuracy: 0.4384 - val_loss: 2.4164 - val_accuracy: 0.2833\n",
            "Epoch 41/1000\n",
            "221/221 [==============================] - 22s 102ms/step - loss: 1.6767 - accuracy: 0.4462 - val_loss: 2.3826 - val_accuracy: 0.3099\n",
            "Epoch 42/1000\n",
            "221/221 [==============================] - 22s 101ms/step - loss: 1.6765 - accuracy: 0.4482 - val_loss: 2.3640 - val_accuracy: 0.3172\n",
            "Epoch 43/1000\n",
            "221/221 [==============================] - 24s 107ms/step - loss: 1.6515 - accuracy: 0.4553 - val_loss: 2.3415 - val_accuracy: 0.3378\n",
            "Epoch 44/1000\n",
            "221/221 [==============================] - 23s 102ms/step - loss: 1.6414 - accuracy: 0.4556 - val_loss: 2.3715 - val_accuracy: 0.3051\n",
            "Epoch 45/1000\n",
            "221/221 [==============================] - 22s 102ms/step - loss: 1.6143 - accuracy: 0.4698 - val_loss: 2.4069 - val_accuracy: 0.3027\n",
            "Epoch 46/1000\n",
            "221/221 [==============================] - 22s 101ms/step - loss: 1.6248 - accuracy: 0.4647 - val_loss: 2.4172 - val_accuracy: 0.2821\n",
            "Epoch 47/1000\n",
            "221/221 [==============================] - 23s 102ms/step - loss: 1.6261 - accuracy: 0.4648 - val_loss: 2.4519 - val_accuracy: 0.3051\n",
            "Epoch 48/1000\n",
            "221/221 [==============================] - 23s 102ms/step - loss: 1.5870 - accuracy: 0.4763 - val_loss: 2.4503 - val_accuracy: 0.2954\n",
            "Epoch 49/1000\n",
            "221/221 [==============================] - 22s 101ms/step - loss: 1.5755 - accuracy: 0.4811 - val_loss: 2.4878 - val_accuracy: 0.2918\n",
            "Epoch 50/1000\n",
            "221/221 [==============================] - 23s 102ms/step - loss: 1.5742 - accuracy: 0.4763 - val_loss: 2.4363 - val_accuracy: 0.3039\n",
            "Epoch 51/1000\n",
            "221/221 [==============================] - 24s 108ms/step - loss: 1.5831 - accuracy: 0.4726 - val_loss: 2.3474 - val_accuracy: 0.3293\n",
            "Epoch 52/1000\n",
            "221/221 [==============================] - 24s 107ms/step - loss: 1.5642 - accuracy: 0.4879 - val_loss: 2.3798 - val_accuracy: 0.3220\n",
            "Epoch 53/1000\n",
            "221/221 [==============================] - 23s 102ms/step - loss: 1.5633 - accuracy: 0.4791 - val_loss: 2.4112 - val_accuracy: 0.3148\n",
            "Epoch 54/1000\n",
            "221/221 [==============================] - 23s 103ms/step - loss: 1.5461 - accuracy: 0.4806 - val_loss: 2.4231 - val_accuracy: 0.3172\n",
            "Epoch 55/1000\n",
            "221/221 [==============================] - 23s 103ms/step - loss: 1.5267 - accuracy: 0.4991 - val_loss: 2.4081 - val_accuracy: 0.3160\n",
            "Epoch 56/1000\n",
            "221/221 [==============================] - 23s 102ms/step - loss: 1.5261 - accuracy: 0.4902 - val_loss: 2.4217 - val_accuracy: 0.3136\n",
            "Epoch 57/1000\n",
            "221/221 [==============================] - 23s 102ms/step - loss: 1.5163 - accuracy: 0.5027 - val_loss: 2.4344 - val_accuracy: 0.2906\n",
            "Epoch 58/1000\n",
            "221/221 [==============================] - 23s 103ms/step - loss: 1.4937 - accuracy: 0.5047 - val_loss: 2.4362 - val_accuracy: 0.3269\n",
            "Epoch 59/1000\n",
            "221/221 [==============================] - 23s 102ms/step - loss: 1.5138 - accuracy: 0.5038 - val_loss: 2.4648 - val_accuracy: 0.3220\n",
            "Epoch 60/1000\n",
            "221/221 [==============================] - 22s 102ms/step - loss: 1.4998 - accuracy: 0.5065 - val_loss: 2.4333 - val_accuracy: 0.3220\n",
            "Epoch 61/1000\n",
            "221/221 [==============================] - 24s 109ms/step - loss: 1.4855 - accuracy: 0.5057 - val_loss: 2.4958 - val_accuracy: 0.3075\n",
            "Epoch 62/1000\n",
            "221/221 [==============================] - 23s 103ms/step - loss: 1.4689 - accuracy: 0.5116 - val_loss: 2.4354 - val_accuracy: 0.3232\n",
            "Epoch 63/1000\n",
            "221/221 [==============================] - 23s 104ms/step - loss: 1.4882 - accuracy: 0.5038 - val_loss: 2.4218 - val_accuracy: 0.3293\n",
            "Epoch 64/1000\n",
            "221/221 [==============================] - 23s 102ms/step - loss: 1.4792 - accuracy: 0.5146 - val_loss: 2.3702 - val_accuracy: 0.3329\n",
            "Epoch 65/1000\n",
            "221/221 [==============================] - 23s 103ms/step - loss: 1.4814 - accuracy: 0.5123 - val_loss: 2.4294 - val_accuracy: 0.3329\n"
          ]
        }
      ]
    },
    {
      "cell_type": "code",
      "source": [
        "eps = range(len(hist3.history[\"loss\"]))\n",
        "plt.figure(figsize=(10, 6))\n",
        "plt.plot(eps, hist3.history[\"loss\"])\n",
        "plt.plot(eps, hist3.history[\"val_loss\"])\n",
        "plt.legend([\"loss\", \"val_loss\"])\n",
        "\n",
        "eps = range(len(hist3.history[\"accuracy\"]))\n",
        "plt.figure(figsize=(10, 6))\n",
        "plt.plot(eps, hist3.history[\"accuracy\"])\n",
        "plt.plot(eps, hist3.history[\"val_accuracy\"])\n",
        "plt.legend([\"accuracy\", \"val_accuracy\"])"
      ],
      "metadata": {
        "colab": {
          "base_uri": "https://localhost:8080/",
          "height": 754
        },
        "id": "7ZtB0mes59VS",
        "outputId": "e44f7b1a-3a57-4486-d0a0-69664b3c5f2c"
      },
      "execution_count": null,
      "outputs": [
        {
          "output_type": "execute_result",
          "data": {
            "text/plain": [
              "<matplotlib.legend.Legend at 0x7feccb8a5b90>"
            ]
          },
          "metadata": {},
          "execution_count": 95
        },
        {
          "output_type": "display_data",
          "data": {
            "text/plain": [
              "<Figure size 720x432 with 1 Axes>"
            ],
            "image/png": "[encoded data removed]"
          },
          "metadata": {
            "needs_background": "light"
          }
        },
        {
          "output_type": "display_data",
          "data": {
            "text/plain": [
              "<Figure size 720x432 with 1 Axes>"
            ],
            "image/png": "[encoded data removed]"
          },
          "metadata": {
            "needs_background": "light"
          }
        }
      ]
    },
    {
      "cell_type": "code",
      "source": [
        "model2.save(\"model2.h5\")\n",
        "\n",
        "from google.colab import files\n",
        "files.download(\"model2.h5\")"
      ],
      "metadata": {
        "id": "xdnIDbwufnkx"
      },
      "execution_count": null,
      "outputs": []
    },
    {
      "cell_type": "code",
      "source": [],
      "metadata": {
        "id": "85nBuX11omBU"
      },
      "execution_count": null,
      "outputs": []
    }
  ]
}