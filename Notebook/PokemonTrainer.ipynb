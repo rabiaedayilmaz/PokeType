{
  "nbformat": 4,
  "nbformat_minor": 0,
  "metadata": {
    "colab": {
      "provenance": [],
      "collapsed_sections": []
    },
    "kernelspec": {
      "name": "python3",
      "display_name": "Python 3"
    },
    "language_info": {
      "name": "python"
    },
    "accelerator": "GPU"
  },
  "cells": [
    {
      "cell_type": "markdown",
      "source": [
        "# Libraries and Configurations"
      ],
      "metadata": {
        "id": "r9edzDT-yuEN"
      }
    },
    {
      "cell_type": "code",
      "execution_count": 1,
      "metadata": {
        "colab": {
          "base_uri": "https://localhost:8080/"
        },
        "id": "2sU73BEtyRKu",
        "outputId": "cef53cfc-80ef-4a5d-b638-be73b2691d54"
      },
      "outputs": [
        {
          "output_type": "stream",
          "name": "stdout",
          "text": [
            "Drive already mounted at /content/drive; to attempt to forcibly remount, call drive.mount(\"/content/drive\", force_remount=True).\n"
          ]
        }
      ],
      "source": [
        "# GET DATA FROM DRIVE\n",
        "\n",
        "from google.colab import drive\n",
        "drive.mount('/content/drive')"
      ]
    },
    {
      "cell_type": "code",
      "source": [
        "# to process and visualize type data\n",
        "import numpy as np\n",
        "import pandas as pd\n",
        "import matplotlib.pyplot as plt\n",
        "\n",
        "# utilities\n",
        "import os\n",
        "import shutil\n",
        "import random\n",
        "import string\n",
        "\n",
        "# fixed figure size\n",
        "plt.rcParams[\"figure.figsize\"] = (21, 12)\n",
        "\n",
        "# to open zip file\n",
        "from zipfile import ZipFile"
      ],
      "metadata": {
        "id": "8HVFvN5RyZzr"
      },
      "execution_count": 2,
      "outputs": []
    },
    {
      "cell_type": "code",
      "source": [
        "import tensorflow as tf\n",
        "\n",
        "# image preprocessing\n",
        "from tensorflow.keras.preprocessing.image import img_to_array, ImageDataGenerator, load_img\n",
        "\n",
        "# to build model\n",
        "from tensorflow.keras.models import Sequential\n",
        "from tensorflow.keras.layers import Conv2D, Dense, MaxPooling2D, Dropout, Flatten, BatchNormalization\n",
        "from tensorflow.keras.activations import softmax\n",
        "\n",
        "# cost function / optimizer\n",
        "from tensorflow.keras.optimizers import Adam"
      ],
      "metadata": {
        "id": "4blW4a2nyZ1q"
      },
      "execution_count": 3,
      "outputs": []
    },
    {
      "cell_type": "code",
      "source": [
        "# font configuration, because i am control freak\n",
        "SMALL_SIZE = 12\n",
        "MED_SIZE = 14\n",
        "BIGGER_SIZE = 16\n",
        "\n",
        "plt.rc(\"font\", size=SMALL_SIZE)\n",
        "plt.rc(\"axes\", titlesize=SMALL_SIZE)\n",
        "plt.rc(\"axes\", labelsize=MED_SIZE)\n",
        "plt.rc('xtick', labelsize=SMALL_SIZE)\n",
        "plt.rc('ytick', labelsize=SMALL_SIZE)\n",
        "plt.rc('legend', fontsize=SMALL_SIZE)\n",
        "plt.rc('figure', titlesize=BIGGER_SIZE)"
      ],
      "metadata": {
        "id": "sMIoTfebyZ3u"
      },
      "execution_count": 4,
      "outputs": []
    },
    {
      "cell_type": "markdown",
      "source": [
        "# Process and Prepare Data"
      ],
      "metadata": {
        "id": "Qx3Tr9KgyySL"
      }
    },
    {
      "cell_type": "code",
      "source": [
        "ZIP_PATH = \"/content/drive/MyDrive/Datasets/poke.zip\"\n",
        "CSV_PATH = \"/content/Pokemon.csv\""
      ],
      "metadata": {
        "id": "UXPhCPwEyZ50"
      },
      "execution_count": 5,
      "outputs": []
    },
    {
      "cell_type": "code",
      "source": [
        "def OpenZip(path, destination=None):\n",
        "  \"\"\"\n",
        "  Args: \n",
        "       path : a `str` type that represents location of zipfile\n",
        "       destination : a `str` type that represents where to extract the zipfile\n",
        "  Returns:\n",
        "        None\n",
        "        \n",
        "  Extract zip file to desired location\n",
        "  \"\"\"\n",
        "  with ZipFile(path, \"r\") as f:\n",
        "    print(\"Extracting files...\")\n",
        "    f.extractall(destination)\n",
        "    print(\"Done!\")"
      ],
      "metadata": {
        "id": "oPnOLs_vyZ8D"
      },
      "execution_count": 6,
      "outputs": []
    },
    {
      "cell_type": "code",
      "source": [
        "OpenZip(ZIP_PATH, destination=\"/content/\")"
      ],
      "metadata": {
        "colab": {
          "base_uri": "https://localhost:8080/"
        },
        "id": "b5c1MDS4yZ-i",
        "outputId": "46be3774-ec35-4042-8fe7-78628f146bb8"
      },
      "execution_count": 7,
      "outputs": [
        {
          "output_type": "stream",
          "name": "stdout",
          "text": [
            "Extracting files...\n",
            "Done!\n"
          ]
        }
      ]
    },
    {
      "cell_type": "code",
      "source": [
        "# path to extracted main folder of zip file\n",
        "ROOT_PATH = \"/content/pokemon\""
      ],
      "metadata": {
        "id": "jtwTm71mzme_"
      },
      "execution_count": 8,
      "outputs": []
    },
    {
      "cell_type": "code",
      "source": [
        "generations = os.listdir(ROOT_PATH)\n",
        "generations"
      ],
      "metadata": {
        "colab": {
          "base_uri": "https://localhost:8080/"
        },
        "id": "_6wx45RazmhX",
        "outputId": "a45c2073-15e1-4953-956f-13d4ff697ade"
      },
      "execution_count": 9,
      "outputs": [
        {
          "output_type": "execute_result",
          "data": {
            "text/plain": [
              "['icons', 'sugimori', 'overworld', 'conquest', 'main-sprites']"
            ]
          },
          "metadata": {},
          "execution_count": 9
        }
      ]
    },
    {
      "cell_type": "code",
      "source": [
        "# create a new folder\n",
        "BASE_DIR = \"/content/Pokemons\"\n",
        "\n",
        "# create two subfolders in base dir\n",
        "TRAIN_DIR = os.path.join(BASE_DIR, \"training\")\n",
        "VAL_DIR = os.path.join(BASE_DIR, \"validation\")\n",
        "\n",
        "# if cell is run multiple times, empty tree\n",
        "if os.path.exists(BASE_DIR):\n",
        "  shutil.rmtree(BASE_DIR)\n",
        "\n",
        "os.makedirs(BASE_DIR)\n",
        "os.makedirs(TRAIN_DIR)\n",
        "os.makedirs(VAL_DIR)"
      ],
      "metadata": {
        "id": "rCuXeV1CzmjX"
      },
      "execution_count": 10,
      "outputs": []
    },
    {
      "cell_type": "code",
      "source": [
        "# read csv file in order to get types for each pokemon according to their id number\n",
        "df = pd.read_csv(CSV_PATH)\n",
        "df.head()"
      ],
      "metadata": {
        "colab": {
          "base_uri": "https://localhost:8080/",
          "height": 250
        },
        "id": "gnVSJfLwzmlv",
        "outputId": "3dd60bfd-862b-4486-94ad-0c829b571ee2"
      },
      "execution_count": 11,
      "outputs": [
        {
          "output_type": "execute_result",
          "data": {
            "text/plain": [
              "   #                   Name Type 1  Type 2  Total  HP  Attack  Defense  \\\n",
              "0  1              Bulbasaur  Grass  Poison    318  45      49       49   \n",
              "1  2                Ivysaur  Grass  Poison    405  60      62       63   \n",
              "2  3               Venusaur  Grass  Poison    525  80      82       83   \n",
              "3  3  VenusaurMega Venusaur  Grass  Poison    625  80     100      123   \n",
              "4  4             Charmander   Fire     NaN    309  39      52       43   \n",
              "\n",
              "   Sp. Atk  Sp. Def  Speed  Generation  Legendary  \n",
              "0       65       65     45           1      False  \n",
              "1       80       80     60           1      False  \n",
              "2      100      100     80           1      False  \n",
              "3      122      120     80           1      False  \n",
              "4       60       50     65           1      False  "
            ],
            "text/html": [
              "\n",
              "  <div id=\"df-84e8a181-7804-41f8-bffb-57df29eda1cf\">\n",
              "    <div class=\"colab-df-container\">\n",
              "      <div>\n",
              "<style scoped>\n",
              "    .dataframe tbody tr th:only-of-type {\n",
              "        vertical-align: middle;\n",
              "    }\n",
              "\n",
              "    .dataframe tbody tr th {\n",
              "        vertical-align: top;\n",
              "    }\n",
              "\n",
              "    .dataframe thead th {\n",
              "        text-align: right;\n",
              "    }\n",
              "</style>\n",
              "<table border=\"1\" class=\"dataframe\">\n",
              "  <thead>\n",
              "    <tr style=\"text-align: right;\">\n",
              "      <th></th>\n",
              "      <th>#</th>\n",
              "      <th>Name</th>\n",
              "      <th>Type 1</th>\n",
              "      <th>Type 2</th>\n",
              "      <th>Total</th>\n",
              "      <th>HP</th>\n",
              "      <th>Attack</th>\n",
              "      <th>Defense</th>\n",
              "      <th>Sp. Atk</th>\n",
              "      <th>Sp. Def</th>\n",
              "      <th>Speed</th>\n",
              "      <th>Generation</th>\n",
              "      <th>Legendary</th>\n",
              "    </tr>\n",
              "  </thead>\n",
              "  <tbody>\n",
              "    <tr>\n",
              "      <th>0</th>\n",
              "      <td>1</td>\n",
              "      <td>Bulbasaur</td>\n",
              "      <td>Grass</td>\n",
              "      <td>Poison</td>\n",
              "      <td>318</td>\n",
              "      <td>45</td>\n",
              "      <td>49</td>\n",
              "      <td>49</td>\n",
              "      <td>65</td>\n",
              "      <td>65</td>\n",
              "      <td>45</td>\n",
              "      <td>1</td>\n",
              "      <td>False</td>\n",
              "    </tr>\n",
              "    <tr>\n",
              "      <th>1</th>\n",
              "      <td>2</td>\n",
              "      <td>Ivysaur</td>\n",
              "      <td>Grass</td>\n",
              "      <td>Poison</td>\n",
              "      <td>405</td>\n",
              "      <td>60</td>\n",
              "      <td>62</td>\n",
              "      <td>63</td>\n",
              "      <td>80</td>\n",
              "      <td>80</td>\n",
              "      <td>60</td>\n",
              "      <td>1</td>\n",
              "      <td>False</td>\n",
              "    </tr>\n",
              "    <tr>\n",
              "      <th>2</th>\n",
              "      <td>3</td>\n",
              "      <td>Venusaur</td>\n",
              "      <td>Grass</td>\n",
              "      <td>Poison</td>\n",
              "      <td>525</td>\n",
              "      <td>80</td>\n",
              "      <td>82</td>\n",
              "      <td>83</td>\n",
              "      <td>100</td>\n",
              "      <td>100</td>\n",
              "      <td>80</td>\n",
              "      <td>1</td>\n",
              "      <td>False</td>\n",
              "    </tr>\n",
              "    <tr>\n",
              "      <th>3</th>\n",
              "      <td>3</td>\n",
              "      <td>VenusaurMega Venusaur</td>\n",
              "      <td>Grass</td>\n",
              "      <td>Poison</td>\n",
              "      <td>625</td>\n",
              "      <td>80</td>\n",
              "      <td>100</td>\n",
              "      <td>123</td>\n",
              "      <td>122</td>\n",
              "      <td>120</td>\n",
              "      <td>80</td>\n",
              "      <td>1</td>\n",
              "      <td>False</td>\n",
              "    </tr>\n",
              "    <tr>\n",
              "      <th>4</th>\n",
              "      <td>4</td>\n",
              "      <td>Charmander</td>\n",
              "      <td>Fire</td>\n",
              "      <td>NaN</td>\n",
              "      <td>309</td>\n",
              "      <td>39</td>\n",
              "      <td>52</td>\n",
              "      <td>43</td>\n",
              "      <td>60</td>\n",
              "      <td>50</td>\n",
              "      <td>65</td>\n",
              "      <td>1</td>\n",
              "      <td>False</td>\n",
              "    </tr>\n",
              "  </tbody>\n",
              "</table>\n",
              "</div>\n",
              "      <button class=\"colab-df-convert\" onclick=\"convertToInteractive('df-84e8a181-7804-41f8-bffb-57df29eda1cf')\"\n",
              "              title=\"Convert this dataframe to an interactive table.\"\n",
              "              style=\"display:none;\">\n",
              "        \n",
              "  <svg xmlns=\"http://www.w3.org/2000/svg\" height=\"24px\"viewBox=\"0 0 24 24\"\n",
              "       width=\"24px\">\n",
              "    <path d=\"M0 0h24v24H0V0z\" fill=\"none\"/>\n",
              "    <path d=\"M18.56 5.44l.94 2.06.94-2.06 2.06-.94-2.06-.94-.94-2.06-.94 2.06-2.06.94zm-11 1L8.5 8.5l.94-2.06 2.06-.94-2.06-.94L8.5 2.5l-.94 2.06-2.06.94zm10 10l.94 2.06.94-2.06 2.06-.94-2.06-.94-.94-2.06-.94 2.06-2.06.94z\"/><path d=\"M17.41 7.96l-1.37-1.37c-.4-.4-.92-.59-1.43-.59-.52 0-1.04.2-1.43.59L10.3 9.45l-7.72 7.72c-.78.78-.78 2.05 0 2.83L4 21.41c.39.39.9.59 1.41.59.51 0 1.02-.2 1.41-.59l7.78-7.78 2.81-2.81c.8-.78.8-2.07 0-2.86zM5.41 20L4 18.59l7.72-7.72 1.47 1.35L5.41 20z\"/>\n",
              "  </svg>\n",
              "      </button>\n",
              "      \n",
              "  <style>\n",
              "    .colab-df-container {\n",
              "      display:flex;\n",
              "      flex-wrap:wrap;\n",
              "      gap: 12px;\n",
              "    }\n",
              "\n",
              "    .colab-df-convert {\n",
              "      background-color: #E8F0FE;\n",
              "      border: none;\n",
              "      border-radius: 50%;\n",
              "      cursor: pointer;\n",
              "      display: none;\n",
              "      fill: #1967D2;\n",
              "      height: 32px;\n",
              "      padding: 0 0 0 0;\n",
              "      width: 32px;\n",
              "    }\n",
              "\n",
              "    .colab-df-convert:hover {\n",
              "      background-color: #E2EBFA;\n",
              "      box-shadow: 0px 1px 2px rgba(60, 64, 67, 0.3), 0px 1px 3px 1px rgba(60, 64, 67, 0.15);\n",
              "      fill: #174EA6;\n",
              "    }\n",
              "\n",
              "    [theme=dark] .colab-df-convert {\n",
              "      background-color: #3B4455;\n",
              "      fill: #D2E3FC;\n",
              "    }\n",
              "\n",
              "    [theme=dark] .colab-df-convert:hover {\n",
              "      background-color: #434B5C;\n",
              "      box-shadow: 0px 1px 3px 1px rgba(0, 0, 0, 0.15);\n",
              "      filter: drop-shadow(0px 1px 2px rgba(0, 0, 0, 0.3));\n",
              "      fill: #FFFFFF;\n",
              "    }\n",
              "  </style>\n",
              "\n",
              "      <script>\n",
              "        const buttonEl =\n",
              "          document.querySelector('#df-84e8a181-7804-41f8-bffb-57df29eda1cf button.colab-df-convert');\n",
              "        buttonEl.style.display =\n",
              "          google.colab.kernel.accessAllowed ? 'block' : 'none';\n",
              "\n",
              "        async function convertToInteractive(key) {\n",
              "          const element = document.querySelector('#df-84e8a181-7804-41f8-bffb-57df29eda1cf');\n",
              "          const dataTable =\n",
              "            await google.colab.kernel.invokeFunction('convertToInteractive',\n",
              "                                                     [key], {});\n",
              "          if (!dataTable) return;\n",
              "\n",
              "          const docLinkHtml = 'Like what you see? Visit the ' +\n",
              "            '<a target=\"_blank\" href=https://colab.research.google.com/notebooks/data_table.ipynb>data table notebook</a>'\n",
              "            + ' to learn more about interactive tables.';\n",
              "          element.innerHTML = '';\n",
              "          dataTable['output_type'] = 'display_data';\n",
              "          await google.colab.output.renderOutput(dataTable, element);\n",
              "          const docLink = document.createElement('div');\n",
              "          docLink.innerHTML = docLinkHtml;\n",
              "          element.appendChild(docLink);\n",
              "        }\n",
              "      </script>\n",
              "    </div>\n",
              "  </div>\n",
              "  "
            ]
          },
          "metadata": {},
          "execution_count": 11
        }
      ]
    },
    {
      "cell_type": "code",
      "source": [
        "# there are 800 pokemons and 13 feature types in csv file\n",
        "df.shape"
      ],
      "metadata": {
        "colab": {
          "base_uri": "https://localhost:8080/"
        },
        "id": "isVVrBvUzmoH",
        "outputId": "2a6fdeb9-171c-4ef9-b7c5-5711d76e9270"
      },
      "execution_count": 12,
      "outputs": [
        {
          "output_type": "execute_result",
          "data": {
            "text/plain": [
              "(800, 13)"
            ]
          },
          "metadata": {},
          "execution_count": 12
        }
      ]
    },
    {
      "cell_type": "code",
      "source": [
        "# get a list of type 1s for labels\n",
        "pokemon_types = df[\"Type 1\"].unique()\n",
        "pokemon_types"
      ],
      "metadata": {
        "colab": {
          "base_uri": "https://localhost:8080/"
        },
        "id": "nMpnPGtd0OOJ",
        "outputId": "4d376334-39c7-449f-f278-a7f4a19001bf"
      },
      "execution_count": 13,
      "outputs": [
        {
          "output_type": "execute_result",
          "data": {
            "text/plain": [
              "array(['Grass', 'Fire', 'Water', 'Bug', 'Normal', 'Poison', 'Electric',\n",
              "       'Ground', 'Fairy', 'Fighting', 'Psychic', 'Rock', 'Ghost', 'Ice',\n",
              "       'Dragon', 'Dark', 'Steel', 'Flying'], dtype=object)"
            ]
          },
          "metadata": {},
          "execution_count": 13
        }
      ]
    },
    {
      "cell_type": "code",
      "source": [
        "# create subfolders for each type 1 in both training and validation folders \n",
        "for t in pokemon_types:\n",
        "  os.makedirs(os.path.join(TRAIN_DIR, t))\n",
        "  os.makedirs(os.path.join(VAL_DIR, t))\n",
        "print(\"Type directories are created!\")"
      ],
      "metadata": {
        "colab": {
          "base_uri": "https://localhost:8080/"
        },
        "id": "Oqg534Nu0OQU",
        "outputId": "0e4163d7-8e70-4af9-a570-10034d5e7674"
      },
      "execution_count": 14,
      "outputs": [
        {
          "output_type": "stream",
          "name": "stdout",
          "text": [
            "Type directories are created!\n"
          ]
        }
      ]
    },
    {
      "cell_type": "code",
      "source": [
        "# count pokemons in each subfolder\n",
        "\n",
        "count_pokemons = {\"conquest\": 0,\n",
        "                  \"icons\": 0,\n",
        "                  \"main-sprites\": 0,\n",
        "                  \"overworld\": 0,\n",
        "                  \"sugimori\": 0}\n",
        "\n",
        "for subfolder in os.listdir(ROOT_PATH):\n",
        "  sub = os.path.join(ROOT_PATH, subfolder)\n",
        "  for im in os.listdir(sub):\n",
        "    count_pokemons[subfolder] += 1\n",
        "    #print(im)\n",
        "\n",
        "count_pokemons\n",
        "# main-sprites and overworld folder has subdirectories.\n",
        "# handle them separately"
      ],
      "metadata": {
        "colab": {
          "base_uri": "https://localhost:8080/"
        },
        "id": "zNFFclEM0OSR",
        "outputId": "50463a7c-b8bf-4a4a-b546-7eb25e064648"
      },
      "execution_count": 15,
      "outputs": [
        {
          "output_type": "execute_result",
          "data": {
            "text/plain": [
              "{'conquest': 202,\n",
              " 'icons': 945,\n",
              " 'main-sprites': 13,\n",
              " 'overworld': 6,\n",
              " 'sugimori': 852}"
            ]
          },
          "metadata": {},
          "execution_count": 15
        }
      ]
    },
    {
      "cell_type": "code",
      "source": [
        "def create_type_path_lists(base_dir):\n",
        "  \"\"\" \n",
        "  Args: \n",
        "      base_dir : a `str` that represents main folder\n",
        "  Returns:\n",
        "      A `dict` that `str` keys are pokemon types and `list` values are containing location of corresponding pokemon path\n",
        "\n",
        "  Create lists for each pokemon type that contains corresponding type of pokemon path\n",
        "  \"\"\"\n",
        "  \n",
        "  alphabet = list(string.ascii_lowercase)\n",
        "\n",
        "  type_lists_dict = {}\n",
        "  for t in pokemon_types:\n",
        "    type_lists_dict[t] = []\n",
        "\n",
        "  if base_dir.split(\"/\")[-1] in [\"main-sprites\", \"overworld\"]:\n",
        "    for subfolder in os.listdir(base_dir):\n",
        "      foldername = os.path.join(base_dir, subfolder)\n",
        "      for filename in os.listdir(foldername):\n",
        "        # eliminate pokemons that contains hyphen names like: 423-west.png\n",
        "        if filename.split(\".\")[0].endswith(tuple(alphabet)):     \n",
        "          #print(\"Excluded: \", im)\n",
        "          continue\n",
        "        if not os.path.isdir(os.path.join(foldername, filename)):\n",
        "          # check if it is a folder or not\n",
        "          poke_id = int(filename.split(\".\")[0])\n",
        "          type1 = df.iloc[poke_id-1][\"Type 1\"]\n",
        "          type_lists_dict[type1].append(os.path.join(foldername, filename))\n",
        "    return type_lists_dict\n",
        "\n",
        "  for fname in os.listdir(base_dir):\n",
        "    filename = os.path.join(base_dir, fname)\n",
        "    # eliminate pokemons that contains hyphen names like: 423-west.png\n",
        "    if filename.split(\".\")[0].endswith(tuple(alphabet)):     \n",
        "      #print(\"Excluded: \", im)\n",
        "      continue\n",
        "    if not os.path.isdir(filename):\n",
        "      # check if it is a folder or not\n",
        "      poke_id = int(fname.split(\".\")[0])\n",
        "      type1 = list(df[df[\"#\"] == poke_id][\"Type 1\"])[0]\n",
        "      type_lists_dict[type1].append(filename)\n",
        "  return type_lists_dict\n",
        "\n",
        "#conquest_type_path_dict = create_type_path_lists(\"/content/pokemon/conquest\")\n",
        "#sugimori_type_path_dict = create_type_path_lists(\"/content/pokemon/sugimori\")\n",
        "#icons_type_path_dict = create_type_path_lists(\"/content/pokemon/icons\")\n",
        "#main_sprites_type_path_dict = create_type_path_lists(\"/content/pokemon/main-sprites\")\n",
        "#overworld_type_path_dict = create_type_path_lists(\"/content/pokemon/overworld\")\n",
        "\n",
        "# works very well <3"
      ],
      "metadata": {
        "id": "yA5SOZqA0OWl"
      },
      "execution_count": 16,
      "outputs": []
    },
    {
      "cell_type": "code",
      "source": [
        "# create type-path dictionaries for each subfolder and then print the amounts of type 1 in each folder\n",
        "\n",
        "conquest_type_path_dict = create_type_path_lists(\"/content/pokemon/conquest\")\n",
        "sugimori_type_path_dict = create_type_path_lists(\"/content/pokemon/sugimori\")\n",
        "icons_type_path_dict = create_type_path_lists(\"/content/pokemon/icons\")\n",
        "main_sprites_type_path_dict = create_type_path_lists(\"/content/pokemon/main-sprites\")\n",
        "overworld_type_path_dict = create_type_path_lists(\"/content/pokemon/overworld\")\n",
        "\n",
        "for k in conquest_type_path_dict.keys():\n",
        "  print(f\"{k} has {len(conquest_type_path_dict[k])} paths.\")\n",
        "\n",
        "print(\"\\n-----------------------------------\\n\")\n",
        "\n",
        "for k in sugimori_type_path_dict.keys():\n",
        "  print(f\"{k} has {len(sugimori_type_path_dict[k])} paths.\")\n",
        "\n",
        "print(\"\\n-----------------------------------\\n\")\n",
        "\n",
        "for k in icons_type_path_dict.keys():\n",
        "  print(f\"{k} has {len(icons_type_path_dict[k])} paths.\")\n",
        "\n",
        "print(\"\\n-----------------------------------\\n\")\n",
        "\n",
        "for k in main_sprites_type_path_dict.keys():\n",
        "  print(f\"{k} has {len(main_sprites_type_path_dict[k])} paths.\")\n",
        "\n",
        "print(\"\\n-----------------------------------\\n\")\n",
        "\n",
        "for k in overworld_type_path_dict.keys():\n",
        "  print(f\"{k} has {len(overworld_type_path_dict[k])} paths.\")"
      ],
      "metadata": {
        "colab": {
          "base_uri": "https://localhost:8080/"
        },
        "id": "qxnYvxmF1f8Z",
        "outputId": "c3cfa8fd-815b-49a8-dee2-d68bb4fd4ce5"
      },
      "execution_count": 17,
      "outputs": [
        {
          "output_type": "stream",
          "name": "stdout",
          "text": [
            "Grass has 14 paths.\n",
            "Fire has 14 paths.\n",
            "Water has 14 paths.\n",
            "Bug has 15 paths.\n",
            "Normal has 19 paths.\n",
            "Poison has 9 paths.\n",
            "Electric has 13 paths.\n",
            "Ground has 9 paths.\n",
            "Fairy has 0 paths.\n",
            "Fighting has 8 paths.\n",
            "Psychic has 16 paths.\n",
            "Rock has 12 paths.\n",
            "Ghost has 14 paths.\n",
            "Ice has 10 paths.\n",
            "Dragon has 12 paths.\n",
            "Dark has 12 paths.\n",
            "Steel has 9 paths.\n",
            "Flying has 0 paths.\n",
            "\n",
            "-----------------------------------\n",
            "\n",
            "Grass has 66 paths.\n",
            "Fire has 47 paths.\n",
            "Water has 105 paths.\n",
            "Bug has 63 paths.\n",
            "Normal has 93 paths.\n",
            "Poison has 28 paths.\n",
            "Electric has 36 paths.\n",
            "Ground has 30 paths.\n",
            "Fairy has 17 paths.\n",
            "Fighting has 25 paths.\n",
            "Psychic has 47 paths.\n",
            "Rock has 41 paths.\n",
            "Ghost has 23 paths.\n",
            "Ice has 23 paths.\n",
            "Dragon has 24 paths.\n",
            "Dark has 28 paths.\n",
            "Steel has 22 paths.\n",
            "Flying has 3 paths.\n",
            "\n",
            "-----------------------------------\n",
            "\n",
            "Grass has 66 paths.\n",
            "Fire has 47 paths.\n",
            "Water has 105 paths.\n",
            "Bug has 63 paths.\n",
            "Normal has 93 paths.\n",
            "Poison has 28 paths.\n",
            "Electric has 36 paths.\n",
            "Ground has 30 paths.\n",
            "Fairy has 17 paths.\n",
            "Fighting has 25 paths.\n",
            "Psychic has 47 paths.\n",
            "Rock has 41 paths.\n",
            "Ghost has 23 paths.\n",
            "Ice has 23 paths.\n",
            "Dragon has 24 paths.\n",
            "Dark has 28 paths.\n",
            "Steel has 22 paths.\n",
            "Flying has 3 paths.\n",
            "\n",
            "-----------------------------------\n",
            "\n",
            "Grass has 372 paths.\n",
            "Fire has 312 paths.\n",
            "Water has 757 paths.\n",
            "Bug has 407 paths.\n",
            "Normal has 607 paths.\n",
            "Poison has 223 paths.\n",
            "Electric has 227 paths.\n",
            "Ground has 175 paths.\n",
            "Fairy has 72 paths.\n",
            "Fighting has 141 paths.\n",
            "Psychic has 270 paths.\n",
            "Rock has 219 paths.\n",
            "Ghost has 106 paths.\n",
            "Ice has 89 paths.\n",
            "Dragon has 89 paths.\n",
            "Dark has 98 paths.\n",
            "Steel has 96 paths.\n",
            "Flying has 0 paths.\n",
            "\n",
            "-----------------------------------\n",
            "\n",
            "Grass has 168 paths.\n",
            "Fire has 132 paths.\n",
            "Water has 332 paths.\n",
            "Bug has 188 paths.\n",
            "Normal has 280 paths.\n",
            "Poison has 80 paths.\n",
            "Electric has 100 paths.\n",
            "Ground has 72 paths.\n",
            "Fairy has 28 paths.\n",
            "Fighting has 56 paths.\n",
            "Psychic has 128 paths.\n",
            "Rock has 112 paths.\n",
            "Ghost has 56 paths.\n",
            "Ice has 52 paths.\n",
            "Dragon has 68 paths.\n",
            "Dark has 52 paths.\n",
            "Steel has 68 paths.\n",
            "Flying has 0 paths.\n"
          ]
        }
      ]
    },
    {
      "cell_type": "code",
      "source": [
        "# to empty directories if you run multiple times\n",
        "\n",
        "#training paths\n",
        "TR_PATHS = [\"/content/Pokemons/training/Bug\",\n",
        "            \"/content/Pokemons/training/Dark\",\n",
        "            \"/content/Pokemons/training/Dragon\",\n",
        "            \"/content/Pokemons/training/Electric\",\n",
        "            \"/content/Pokemons/training/Fairy\",\n",
        "            \"/content/Pokemons/training/Fighting\",\n",
        "            \"/content/Pokemons/training/Fire\",\n",
        "            \"/content/Pokemons/training/Flying\",\n",
        "            \"/content/Pokemons/training/Ghost\",\n",
        "            \"/content/Pokemons/training/Grass\",\n",
        "            \"/content/Pokemons/training/Ice\",\n",
        "            \"/content/Pokemons/training/Normal\",\n",
        "            \"/content/Pokemons/training/Poison\",\n",
        "            \"/content/Pokemons/training/Psychic\",\n",
        "            \"/content/Pokemons/training/Rock\",\n",
        "            \"/content/Pokemons/training/Steel\",\n",
        "            \"/content/Pokemons/training/Water\",\n",
        "            ]\n",
        "\n",
        "# val paths\n",
        "VL_PATHS = [\"/content/Pokemons/validation/Bug\",\n",
        "            \"/content/Pokemons/validation/Dark\",\n",
        "            \"/content/Pokemons/validation/Dragon\",\n",
        "            \"/content/Pokemons/validation/Electric\",\n",
        "            \"/content/Pokemons/validation/Fairy\",\n",
        "            \"/content/Pokemons/validation/Fighting\",\n",
        "            \"/content/Pokemons/validation/Fire\",\n",
        "            \"/content/Pokemons/validation/Flying\",\n",
        "            \"/content/Pokemons/validation/Ghost\",\n",
        "            \"/content/Pokemons/validation/Grass\",\n",
        "            \"/content/Pokemons/validation/Ice\",\n",
        "            \"/content/Pokemons/validation/Normal\",\n",
        "            \"/content/Pokemons/validation/Poison\",\n",
        "            \"/content/Pokemons/validation/Psychic\",\n",
        "            \"/content/Pokemons/validation/Rock\",\n",
        "            \"/content/Pokemons/validation/Steel\",\n",
        "            \"/content/Pokemons/validation/Water\",\n",
        "            ]\n",
        "\n",
        "for i in range(17):\n",
        "  if len(os.listdir(TR_PATHS[i])) > 0:\n",
        "    for file in os.scandir(TR_PATHS[i]):\n",
        "      if file.path.split(\"/\")[-1] != '.ipynb_checkpoints':\n",
        "        os.remove(file.path)\n",
        "\n",
        "  if len(os.listdir(VL_PATHS[i])) > 0:\n",
        "    for file in os.scandir(VL_PATHS[i]):\n",
        "      if file.path.split(\"/\")[-1] != '.ipynb_checkpoints':\n",
        "        os.remove(file.path)"
      ],
      "metadata": {
        "id": "OEcGkvVW1gAU"
      },
      "execution_count": 18,
      "outputs": []
    },
    {
      "cell_type": "code",
      "source": [
        "def split_data(base_dir, type_path_dict, split_size):\n",
        "  \"\"\"\n",
        "  Args:\n",
        "      base_dir: a `str` that represents main folder\n",
        "      type_path_dict: a `dict` of `list`s that contains type-path pairs\n",
        "      split_size: a `float` that is ratio of train-val split\n",
        "  \n",
        "  Returns:\n",
        "      None\n",
        "\n",
        "  Gets type_path_dict, if image len is not zero, appends it to training or validation folders by shuffling types\n",
        "  Fills training and validation folders by shuffled and splitted images\n",
        "  \"\"\"\n",
        "\n",
        "  to_train_dir = os.path.join(base_dir, \"training\")\n",
        "  to_val_dir = os.path.join(base_dir, \"validation\")\n",
        "  \n",
        "  for type_key in type_path_dict.keys():\n",
        "    tmp_type_files = []\n",
        "    type_files = type_path_dict[type_key]\n",
        "\n",
        "    for f in type_files:\n",
        "      if os.path.getsize(f):\n",
        "        tmp_type_files.append(f)\n",
        "      elif f == \"/content/pokemon/main-sprites/black-white/0.png\":\n",
        "        print(\"Fucking egg found! : \", f)\n",
        "        continue\n",
        "      else:\n",
        "        print(\"{} is zero length, so ignoring.\".format(f))\n",
        "    n_type = len(tmp_type_files)\n",
        "    split_point = int(split_size * n_type)\n",
        "    shuffled = random.sample(tmp_type_files, n_type)\n",
        "\n",
        "    train_type = shuffled[:split_point]\n",
        "    test_type = shuffled[split_point:]\n",
        "    \n",
        "    for type_path in train_type:\n",
        "      to_copy = os.path.join(to_train_dir, type_key)\n",
        "      copy_name = \"\".join(type_path.split(\"/\")[3:])\n",
        "      shutil.copyfile(type_path, os.path.join(to_copy, copy_name))\n",
        "    \n",
        "    for type_path in test_type:\n",
        "      to_copy = os.path.join(to_val_dir, type_key)\n",
        "      copy_name = \"\".join(type_path.split(\"/\")[3:])\n",
        "      shutil.copyfile(type_path, os.path.join(to_copy, copy_name))"
      ],
      "metadata": {
        "id": "cccubOIx1gC1"
      },
      "execution_count": 19,
      "outputs": []
    },
    {
      "cell_type": "code",
      "source": [
        "# declare train-val ratio and then split data\n",
        "split_size = 0.7\n",
        "\n",
        "split_data(BASE_DIR, conquest_type_path_dict, split_size)\n",
        "split_data(BASE_DIR, sugimori_type_path_dict, split_size)\n",
        "split_data(BASE_DIR, icons_type_path_dict, split_size)\n",
        "split_data(BASE_DIR, main_sprites_type_path_dict, split_size)\n",
        "split_data(BASE_DIR, overworld_type_path_dict, split_size)"
      ],
      "metadata": {
        "id": "sA6EBktH1wUb"
      },
      "execution_count": 20,
      "outputs": []
    },
    {
      "cell_type": "code",
      "source": [
        "# save my preciousss data\n",
        "shutil.make_archive(\"ProcessedPokemonData\" + str(split_size)[2:], 'zip', \"/content/Pokemons\")"
      ],
      "metadata": {
        "colab": {
          "base_uri": "https://localhost:8080/",
          "height": 35
        },
        "id": "vGgx5CdB1wWy",
        "outputId": "6fafe469-99d0-4d5b-a69f-a364c1861cea"
      },
      "execution_count": 21,
      "outputs": [
        {
          "output_type": "execute_result",
          "data": {
            "text/plain": [
              "'/content/ProcessedPokemonData7.zip'"
            ],
            "application/vnd.google.colaboratory.intrinsic+json": {
              "type": "string"
            }
          },
          "metadata": {},
          "execution_count": 21
        }
      ]
    },
    {
      "cell_type": "code",
      "source": [
        "# observe training and validation splits\n",
        "for i in range(17):\n",
        "  print(f\"There are {len(os.listdir(TR_PATHS[i]))} images of {(TR_PATHS[i].split('/')[-1].lower())}'s for training\")\n",
        "  print(f\"There are {len(os.listdir(VL_PATHS[i]))} images of {(VL_PATHS[i].split('/')[-1].lower())}'s for validation.\")\n",
        "  print()"
      ],
      "metadata": {
        "colab": {
          "base_uri": "https://localhost:8080/"
        },
        "id": "u3rlsCR42nBb",
        "outputId": "7959ebba-f8c4-402d-d7d9-256d32889d51"
      },
      "execution_count": 22,
      "outputs": [
        {
          "output_type": "stream",
          "name": "stdout",
          "text": [
            "There are 513 images of bug's for training\n",
            "There are 223 images of bug's for validation.\n",
            "\n",
            "There are 150 images of dark's for training\n",
            "There are 68 images of dark's for validation.\n",
            "\n",
            "There are 149 images of dragon's for training\n",
            "There are 68 images of dragon's for validation.\n",
            "\n",
            "There are 287 images of electric's for training\n",
            "There are 125 images of electric's for validation.\n",
            "\n",
            "There are 91 images of fairy's for training\n",
            "There are 43 images of fairy's for validation.\n",
            "\n",
            "There are 176 images of fighting's for training\n",
            "There are 79 images of fighting's for validation.\n",
            "\n",
            "There are 383 images of fire's for training\n",
            "There are 169 images of fire's for validation.\n",
            "\n",
            "There are 4 images of flying's for training\n",
            "There are 2 images of flying's for validation.\n",
            "\n",
            "There are 154 images of ghost's for training\n",
            "There are 68 images of ghost's for validation.\n",
            "\n",
            "There are 478 images of grass's for training\n",
            "There are 208 images of grass's for validation.\n",
            "\n",
            "There are 137 images of ice's for training\n",
            "There are 60 images of ice's for validation.\n",
            "\n",
            "There are 763 images of normal's for training\n",
            "There are 329 images of normal's for validation.\n",
            "\n",
            "There are 256 images of poison's for training\n",
            "There are 112 images of poison's for validation.\n",
            "\n",
            "There are 353 images of psychic's for training\n",
            "There are 155 images of psychic's for validation.\n",
            "\n",
            "There are 295 images of rock's for training\n",
            "There are 130 images of rock's for validation.\n",
            "\n",
            "There are 150 images of steel's for training\n",
            "There are 67 images of steel's for validation.\n",
            "\n",
            "There are 916 images of water's for training\n",
            "There are 397 images of water's for validation.\n",
            "\n"
          ]
        }
      ]
    },
    {
      "cell_type": "code",
      "source": [
        "# create training and validation data generators\n",
        "\n",
        "def train_val_generators(train_dir, val_dir):\n",
        "  from tensorflow.keras.preprocessing.image import ImageDataGenerator\n",
        "  train_gen = ImageDataGenerator(rescale=1/255.)\n",
        "  val_gen = ImageDataGenerator(rescale=1/255.)\n",
        "\n",
        "  train_generator = train_gen.flow_from_directory(directory=train_dir,\n",
        "                                                  batch_size=32,\n",
        "                                                  class_mode=\"categorical\",\n",
        "                                                  target_size=(32, 32))\n",
        "  val_generator = val_gen.flow_from_directory(directory=val_dir,\n",
        "                                              batch_size=32,\n",
        "                                              class_mode=\"categorical\",\n",
        "                                              target_size=(32, 32))\n",
        "  return train_generator, val_generator"
      ],
      "metadata": {
        "id": "rb8AkSH52nFq"
      },
      "execution_count": 23,
      "outputs": []
    },
    {
      "cell_type": "code",
      "source": [
        "# paths to training and validation data\n",
        "\n",
        "train_dir = \"/content/Pokemons/training\"\n",
        "val_dir = \"/content/Pokemons/validation\""
      ],
      "metadata": {
        "id": "NJ_9xzSH2nH9"
      },
      "execution_count": 24,
      "outputs": []
    },
    {
      "cell_type": "code",
      "source": [
        "# create a model\n",
        "\n",
        "def create_model():\n",
        "  model = Sequential([Conv2D(32, (3,3), input_shape=(32, 32, 3), activation=\"relu\"),\n",
        "                               BatchNormalization(),\n",
        "                               MaxPooling2D(2,2),\n",
        "                               Dropout(0.2),\n",
        "                      \n",
        "                               Conv2D(32, (3,3), activation=\"relu\"),\n",
        "                               BatchNormalization(),\n",
        "                               MaxPooling2D(2,2),\n",
        "                               Dropout(0.2),\n",
        "                               \n",
        "                               Flatten(),\n",
        "                               Dense(128, activation=\"relu\"),\n",
        "                               Dense(18, activation=\"softmax\")\n",
        "                               ])\n",
        "  model.compile(optimizer=\"adam\", loss=\"categorical_crossentropy\", metrics=[\"accuracy\"])\n",
        "\n",
        "  return model"
      ],
      "metadata": {
        "id": "pVa-bHC42zNi"
      },
      "execution_count": 31,
      "outputs": []
    },
    {
      "cell_type": "code",
      "source": [
        "# load the best resulted randomly shuffled-splitted data\n",
        "OpenZip(\"/content/drive/MyDrive/Datasets/ProcessedPokemonData7_split1.zip\", \"/content/loaded_data\")"
      ],
      "metadata": {
        "colab": {
          "base_uri": "https://localhost:8080/"
        },
        "id": "vynOMkEs_e1w",
        "outputId": "680708a9-d6e2-4252-f374-ea9a22654034"
      },
      "execution_count": 26,
      "outputs": [
        {
          "output_type": "stream",
          "name": "stdout",
          "text": [
            "Extracting files...\n",
            "Done!\n"
          ]
        }
      ]
    },
    {
      "cell_type": "code",
      "source": [
        "loaded_train_dir = os.path.join(\"/content/loaded_data\", \"training\")\n",
        "loaded_val_dir = os.path.join(\"/content/loaded_data\", \"validation\")"
      ],
      "metadata": {
        "id": "Xf1W8Ui3AeUN"
      },
      "execution_count": 32,
      "outputs": []
    },
    {
      "cell_type": "code",
      "source": [
        "tf.keras.backend.clear_session()\n",
        "\n",
        "train_generator, val_generator = train_val_generators(loaded_train_dir, loaded_val_dir)   # create image generators to feed images to the model\n",
        "model = create_model()\n",
        "\n",
        "print(\"\\n[INFO] Ready to train. Training is starting!\\n\")\n",
        "\n",
        "callback = tf.keras.callbacks.EarlyStopping(monitor='loss', patience=3)   # limitation to stop somewhere early\n",
        "\n",
        "hist = model.fit(train_generator, validation_data=val_generator, epochs=200, callbacks=[callback])"
      ],
      "metadata": {
        "colab": {
          "base_uri": "https://localhost:8080/"
        },
        "id": "zVZzZBrV2zQB",
        "outputId": "db8735c4-da65-457f-b91c-2402830d36e3"
      },
      "execution_count": 33,
      "outputs": [
        {
          "output_type": "stream",
          "name": "stdout",
          "text": [
            "Found 7148 images belonging to 18 classes.\n",
            "Found 4072 images belonging to 18 classes.\n",
            "\n",
            "[INFO] Ready to train. Training is starting!\n",
            "\n",
            "Epoch 1/200\n",
            "224/224 [==============================] - 41s 182ms/step - loss: 2.7972 - accuracy: 0.1392 - val_loss: 4.3944 - val_accuracy: 0.0648\n",
            "Epoch 2/200\n",
            "224/224 [==============================] - 34s 151ms/step - loss: 2.6150 - accuracy: 0.1663 - val_loss: 2.8664 - val_accuracy: 0.1179\n",
            "Epoch 3/200\n",
            "224/224 [==============================] - 34s 152ms/step - loss: 2.5742 - accuracy: 0.1763 - val_loss: 2.5321 - val_accuracy: 0.1898\n",
            "Epoch 4/200\n",
            "224/224 [==============================] - 35s 157ms/step - loss: 2.5201 - accuracy: 0.1946 - val_loss: 2.4602 - val_accuracy: 0.2134\n",
            "Epoch 5/200\n",
            "224/224 [==============================] - 34s 151ms/step - loss: 2.4493 - accuracy: 0.2133 - val_loss: 2.3676 - val_accuracy: 0.2463\n",
            "Epoch 6/200\n",
            "224/224 [==============================] - 35s 157ms/step - loss: 2.3616 - accuracy: 0.2415 - val_loss: 2.2922 - val_accuracy: 0.2579\n",
            "Epoch 7/200\n",
            "224/224 [==============================] - 34s 151ms/step - loss: 2.2454 - accuracy: 0.2776 - val_loss: 2.0951 - val_accuracy: 0.3352\n",
            "Epoch 8/200\n",
            "224/224 [==============================] - 34s 151ms/step - loss: 2.1178 - accuracy: 0.3110 - val_loss: 1.9138 - val_accuracy: 0.4025\n",
            "Epoch 9/200\n",
            "224/224 [==============================] - 34s 151ms/step - loss: 1.9661 - accuracy: 0.3686 - val_loss: 1.8005 - val_accuracy: 0.4342\n",
            "Epoch 10/200\n",
            "224/224 [==============================] - 34s 153ms/step - loss: 1.8335 - accuracy: 0.4065 - val_loss: 1.7110 - val_accuracy: 0.4676\n",
            "Epoch 11/200\n",
            "224/224 [==============================] - 34s 153ms/step - loss: 1.6951 - accuracy: 0.4471 - val_loss: 1.5507 - val_accuracy: 0.5147\n",
            "Epoch 12/200\n",
            "224/224 [==============================] - 35s 157ms/step - loss: 1.5468 - accuracy: 0.5008 - val_loss: 1.4126 - val_accuracy: 0.5697\n",
            "Epoch 13/200\n",
            "224/224 [==============================] - 34s 152ms/step - loss: 1.4247 - accuracy: 0.5411 - val_loss: 1.2469 - val_accuracy: 0.6299\n",
            "Epoch 14/200\n",
            "224/224 [==============================] - 34s 152ms/step - loss: 1.3203 - accuracy: 0.5736 - val_loss: 1.1520 - val_accuracy: 0.6766\n",
            "Epoch 15/200\n",
            "224/224 [==============================] - 33s 150ms/step - loss: 1.1902 - accuracy: 0.6090 - val_loss: 1.1909 - val_accuracy: 0.6550\n",
            "Epoch 16/200\n",
            "224/224 [==============================] - 34s 149ms/step - loss: 1.1436 - accuracy: 0.6316 - val_loss: 1.0884 - val_accuracy: 0.6911\n",
            "Epoch 17/200\n",
            "224/224 [==============================] - 34s 150ms/step - loss: 1.0430 - accuracy: 0.6584 - val_loss: 1.0207 - val_accuracy: 0.7222\n",
            "Epoch 18/200\n",
            "224/224 [==============================] - 35s 155ms/step - loss: 0.9717 - accuracy: 0.6807 - val_loss: 0.9011 - val_accuracy: 0.7699\n",
            "Epoch 19/200\n",
            "224/224 [==============================] - 34s 151ms/step - loss: 0.9053 - accuracy: 0.7051 - val_loss: 0.8671 - val_accuracy: 0.7809\n",
            "Epoch 20/200\n",
            "224/224 [==============================] - 34s 151ms/step - loss: 0.8343 - accuracy: 0.7339 - val_loss: 0.8485 - val_accuracy: 0.7908\n",
            "Epoch 21/200\n",
            "224/224 [==============================] - 34s 152ms/step - loss: 0.8175 - accuracy: 0.7289 - val_loss: 0.8108 - val_accuracy: 0.8075\n",
            "Epoch 22/200\n",
            "224/224 [==============================] - 34s 152ms/step - loss: 0.7567 - accuracy: 0.7543 - val_loss: 0.7990 - val_accuracy: 0.8156\n",
            "Epoch 23/200\n",
            "224/224 [==============================] - 34s 153ms/step - loss: 0.7221 - accuracy: 0.7609 - val_loss: 0.8083 - val_accuracy: 0.8215\n",
            "Epoch 24/200\n",
            "224/224 [==============================] - 34s 153ms/step - loss: 0.6716 - accuracy: 0.7760 - val_loss: 0.7628 - val_accuracy: 0.8308\n",
            "Epoch 25/200\n",
            "224/224 [==============================] - 35s 156ms/step - loss: 0.6330 - accuracy: 0.7889 - val_loss: 0.8074 - val_accuracy: 0.8232\n",
            "Epoch 26/200\n",
            "224/224 [==============================] - 34s 152ms/step - loss: 0.6020 - accuracy: 0.7995 - val_loss: 0.7578 - val_accuracy: 0.8409\n",
            "Epoch 27/200\n",
            "224/224 [==============================] - 34s 152ms/step - loss: 0.5856 - accuracy: 0.8033 - val_loss: 0.7634 - val_accuracy: 0.8423\n",
            "Epoch 28/200\n",
            "224/224 [==============================] - 34s 151ms/step - loss: 0.5418 - accuracy: 0.8191 - val_loss: 0.7220 - val_accuracy: 0.8573\n",
            "Epoch 29/200\n",
            "224/224 [==============================] - 34s 151ms/step - loss: 0.5191 - accuracy: 0.8255 - val_loss: 0.7067 - val_accuracy: 0.8490\n",
            "Epoch 30/200\n",
            "224/224 [==============================] - 34s 151ms/step - loss: 0.5085 - accuracy: 0.8311 - val_loss: 0.7166 - val_accuracy: 0.8568\n",
            "Epoch 31/200\n",
            "224/224 [==============================] - 36s 159ms/step - loss: 0.4822 - accuracy: 0.8360 - val_loss: 0.7665 - val_accuracy: 0.8519\n",
            "Epoch 32/200\n",
            "224/224 [==============================] - 34s 150ms/step - loss: 0.4738 - accuracy: 0.8437 - val_loss: 0.7306 - val_accuracy: 0.8662\n",
            "Epoch 33/200\n",
            "224/224 [==============================] - 34s 151ms/step - loss: 0.4509 - accuracy: 0.8478 - val_loss: 0.7173 - val_accuracy: 0.8738\n",
            "Epoch 34/200\n",
            "224/224 [==============================] - 34s 153ms/step - loss: 0.4515 - accuracy: 0.8499 - val_loss: 0.7589 - val_accuracy: 0.8590\n",
            "Epoch 35/200\n",
            "224/224 [==============================] - 34s 151ms/step - loss: 0.4427 - accuracy: 0.8518 - val_loss: 0.7459 - val_accuracy: 0.8684\n",
            "Epoch 36/200\n",
            "224/224 [==============================] - 35s 156ms/step - loss: 0.3996 - accuracy: 0.8650 - val_loss: 0.7367 - val_accuracy: 0.8684\n",
            "Epoch 37/200\n",
            "224/224 [==============================] - 36s 161ms/step - loss: 0.4223 - accuracy: 0.8640 - val_loss: 0.7900 - val_accuracy: 0.8686\n",
            "Epoch 38/200\n",
            "224/224 [==============================] - 35s 155ms/step - loss: 0.3916 - accuracy: 0.8693 - val_loss: 0.7307 - val_accuracy: 0.8804\n",
            "Epoch 39/200\n",
            "224/224 [==============================] - 35s 155ms/step - loss: 0.3872 - accuracy: 0.8740 - val_loss: 0.7239 - val_accuracy: 0.8789\n",
            "Epoch 40/200\n",
            "224/224 [==============================] - 35s 157ms/step - loss: 0.3729 - accuracy: 0.8770 - val_loss: 0.7217 - val_accuracy: 0.8806\n",
            "Epoch 41/200\n",
            "224/224 [==============================] - 35s 155ms/step - loss: 0.3502 - accuracy: 0.8844 - val_loss: 0.7664 - val_accuracy: 0.8760\n",
            "Epoch 42/200\n",
            "224/224 [==============================] - 35s 155ms/step - loss: 0.3503 - accuracy: 0.8840 - val_loss: 0.7492 - val_accuracy: 0.8811\n",
            "Epoch 43/200\n",
            "224/224 [==============================] - 36s 161ms/step - loss: 0.3406 - accuracy: 0.8839 - val_loss: 0.7890 - val_accuracy: 0.8792\n",
            "Epoch 44/200\n",
            "224/224 [==============================] - 35s 156ms/step - loss: 0.3170 - accuracy: 0.8938 - val_loss: 0.7613 - val_accuracy: 0.8836\n",
            "Epoch 45/200\n",
            "224/224 [==============================] - 35s 156ms/step - loss: 0.3127 - accuracy: 0.8931 - val_loss: 0.7403 - val_accuracy: 0.8833\n",
            "Epoch 46/200\n",
            "224/224 [==============================] - 34s 154ms/step - loss: 0.3011 - accuracy: 0.8990 - val_loss: 0.7686 - val_accuracy: 0.8770\n",
            "Epoch 47/200\n",
            "224/224 [==============================] - 35s 156ms/step - loss: 0.3484 - accuracy: 0.8864 - val_loss: 0.8247 - val_accuracy: 0.8779\n",
            "Epoch 48/200\n",
            "224/224 [==============================] - 35s 155ms/step - loss: 0.3201 - accuracy: 0.8977 - val_loss: 0.8206 - val_accuracy: 0.8787\n",
            "Epoch 49/200\n",
            "224/224 [==============================] - 43s 194ms/step - loss: 0.2974 - accuracy: 0.9051 - val_loss: 0.8096 - val_accuracy: 0.8819\n",
            "Epoch 50/200\n",
            "224/224 [==============================] - 36s 160ms/step - loss: 0.2971 - accuracy: 0.9012 - val_loss: 0.7755 - val_accuracy: 0.8806\n",
            "Epoch 51/200\n",
            "224/224 [==============================] - 34s 153ms/step - loss: 0.2910 - accuracy: 0.9036 - val_loss: 0.8377 - val_accuracy: 0.8787\n",
            "Epoch 52/200\n",
            "224/224 [==============================] - 34s 153ms/step - loss: 0.2975 - accuracy: 0.8998 - val_loss: 0.8203 - val_accuracy: 0.8779\n",
            "Epoch 53/200\n",
            "224/224 [==============================] - 35s 154ms/step - loss: 0.2593 - accuracy: 0.9127 - val_loss: 0.8337 - val_accuracy: 0.8821\n",
            "Epoch 54/200\n",
            "224/224 [==============================] - 35s 155ms/step - loss: 0.2933 - accuracy: 0.9060 - val_loss: 0.7869 - val_accuracy: 0.8824\n",
            "Epoch 55/200\n",
            "224/224 [==============================] - 35s 155ms/step - loss: 0.2952 - accuracy: 0.9024 - val_loss: 0.7997 - val_accuracy: 0.8858\n",
            "Epoch 56/200\n",
            "224/224 [==============================] - 36s 161ms/step - loss: 0.2702 - accuracy: 0.9113 - val_loss: 0.7788 - val_accuracy: 0.8902\n"
          ]
        }
      ]
    },
    {
      "cell_type": "code",
      "source": [
        "# plot the results\n",
        "\n",
        "eps = range(len(hist.history[\"loss\"]))\n",
        "plt.figure(figsize=(10, 6))\n",
        "plt.plot(eps, hist.history[\"loss\"])\n",
        "plt.plot(eps, hist.history[\"val_loss\"])\n",
        "plt.legend([\"loss\", \"val_loss\"])\n",
        "\n",
        "eps = range(len(hist.history[\"accuracy\"]))\n",
        "plt.figure(figsize=(10, 6))\n",
        "plt.plot(eps, hist.history[\"accuracy\"])\n",
        "plt.plot(eps, hist.history[\"val_accuracy\"])\n",
        "plt.legend([\"accuracy\", \"val_accuracy\"])"
      ],
      "metadata": {
        "colab": {
          "base_uri": "https://localhost:8080/",
          "height": 754
        },
        "id": "QZiNwHDF2zSE",
        "outputId": "d3c10af9-16d2-459b-e0c7-d0e5d57f7b7d"
      },
      "execution_count": 34,
      "outputs": [
        {
          "output_type": "execute_result",
          "data": {
            "text/plain": [
              "<matplotlib.legend.Legend at 0x7f2c102b2fd0>"
            ]
          },
          "metadata": {},
          "execution_count": 34
        },
        {
          "output_type": "display_data",
          "data": {
            "text/plain": [
              "<Figure size 720x432 with 1 Axes>"
            ],
            "image/png": "[encoded data removed]"
          },
          "metadata": {
            "needs_background": "light"
          }
        },
        {
          "output_type": "display_data",
          "data": {
            "text/plain": [
              "<Figure size 720x432 with 1 Axes>"
            ],
            "image/png": "[encoded data removed]"
          },
          "metadata": {
            "needs_background": "light"
          }
        }
      ]
    },
    {
      "cell_type": "code",
      "source": [
        "# save the model <3\n",
        "model.save(\"PokemonTrainerDropout20.h5\")\n",
        "\n",
        "# download it to local\n",
        "from google.colab import files\n",
        "files.download(\"PokemonTrainerDropout20.h5\")"
      ],
      "metadata": {
        "colab": {
          "base_uri": "https://localhost:8080/",
          "height": 17
        },
        "id": "8ejudzlG35o-",
        "outputId": "0b02e626-26b2-442a-d852-be38b3b731a9"
      },
      "execution_count": 35,
      "outputs": [
        {
          "output_type": "display_data",
          "data": {
            "text/plain": [
              "<IPython.core.display.Javascript object>"
            ],
            "application/javascript": [
              "\n",
              "    async function download(id, filename, size) {\n",
              "      if (!google.colab.kernel.accessAllowed) {\n",
              "        return;\n",
              "      }\n",
              "      const div = document.createElement('div');\n",
              "      const label = document.createElement('label');\n",
              "      label.textContent = `Downloading \"${filename}\": `;\n",
              "      div.appendChild(label);\n",
              "      const progress = document.createElement('progress');\n",
              "      progress.max = size;\n",
              "      div.appendChild(progress);\n",
              "      document.body.appendChild(div);\n",
              "\n",
              "      const buffers = [];\n",
              "      let downloaded = 0;\n",
              "\n",
              "      const channel = await google.colab.kernel.comms.open(id);\n",
              "      // Send a message to notify the kernel that we're ready.\n",
              "      channel.send({})\n",
              "\n",
              "      for await (const message of channel.messages) {\n",
              "        // Send a message to notify the kernel that we're ready.\n",
              "        channel.send({})\n",
              "        if (message.buffers) {\n",
              "          for (const buffer of message.buffers) {\n",
              "            buffers.push(buffer);\n",
              "            downloaded += buffer.byteLength;\n",
              "            progress.value = downloaded;\n",
              "          }\n",
              "        }\n",
              "      }\n",
              "      const blob = new Blob(buffers, {type: 'application/binary'});\n",
              "      const a = document.createElement('a');\n",
              "      a.href = window.URL.createObjectURL(blob);\n",
              "      a.download = filename;\n",
              "      div.appendChild(a);\n",
              "      a.click();\n",
              "      div.remove();\n",
              "    }\n",
              "  "
            ]
          },
          "metadata": {}
        },
        {
          "output_type": "display_data",
          "data": {
            "text/plain": [
              "<IPython.core.display.Javascript object>"
            ],
            "application/javascript": [
              "download(\"download_9f891333-2173-435d-a9d5-fa655f5586d6\", \"PokemonTrainerDropout20.h5\", 1986952)"
            ]
          },
          "metadata": {}
        }
      ]
    },
    {
      "cell_type": "code",
      "source": [],
      "metadata": {
        "id": "XrSqmRK44ri3"
      },
      "execution_count": null,
      "outputs": []
    }
  ]
}